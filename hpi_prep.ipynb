{
 "cells": [
  {
   "cell_type": "markdown",
   "metadata": {},
   "source": [
    "# UK HPI Data Prep"
   ]
  },
  {
   "cell_type": "markdown",
   "metadata": {},
   "source": [
    "## Import Libraries"
   ]
  },
  {
   "cell_type": "code",
   "execution_count": 1,
   "metadata": {},
   "outputs": [],
   "source": [
    "# import libraries\n",
    "import pandas as pd\n",
    "import plotly.express as px\n",
    "import seaborn as sns\n",
    "import matplotlib.pyplot as plt\n",
    "import numpy as np\n",
    "import datetime as dt\n",
    "import warnings\n",
    "warnings.filterwarnings('ignore')"
   ]
  },
  {
   "cell_type": "markdown",
   "metadata": {},
   "source": [
    "## Prepare Data"
   ]
  },
  {
   "cell_type": "markdown",
   "metadata": {},
   "source": [
    "### Import"
   ]
  },
  {
   "cell_type": "code",
   "execution_count": 2,
   "metadata": {},
   "outputs": [
    {
     "data": {
      "text/html": [
       "<div>\n",
       "<style scoped>\n",
       "    .dataframe tbody tr th:only-of-type {\n",
       "        vertical-align: middle;\n",
       "    }\n",
       "\n",
       "    .dataframe tbody tr th {\n",
       "        vertical-align: top;\n",
       "    }\n",
       "\n",
       "    .dataframe thead th {\n",
       "        text-align: right;\n",
       "    }\n",
       "</style>\n",
       "<table border=\"1\" class=\"dataframe\">\n",
       "  <thead>\n",
       "    <tr style=\"text-align: right;\">\n",
       "      <th></th>\n",
       "      <th>Date</th>\n",
       "      <th>RegionName</th>\n",
       "      <th>AreaCode</th>\n",
       "      <th>AveragePrice</th>\n",
       "      <th>Index</th>\n",
       "      <th>IndexSA</th>\n",
       "      <th>1m%Change</th>\n",
       "      <th>12m%Change</th>\n",
       "      <th>AveragePriceSA</th>\n",
       "      <th>SalesVolume</th>\n",
       "      <th>...</th>\n",
       "      <th>NewPrice</th>\n",
       "      <th>NewIndex</th>\n",
       "      <th>New1m%Change</th>\n",
       "      <th>New12m%Change</th>\n",
       "      <th>NewSalesVolume</th>\n",
       "      <th>OldPrice</th>\n",
       "      <th>OldIndex</th>\n",
       "      <th>Old1m%Change</th>\n",
       "      <th>Old12m%Change</th>\n",
       "      <th>OldSalesVolume</th>\n",
       "    </tr>\n",
       "  </thead>\n",
       "  <tbody>\n",
       "    <tr>\n",
       "      <th>0</th>\n",
       "      <td>01/04/1968</td>\n",
       "      <td>East Midlands</td>\n",
       "      <td>E12000004</td>\n",
       "      <td>3025.670615</td>\n",
       "      <td>1.968954</td>\n",
       "      <td>NaN</td>\n",
       "      <td>0.0</td>\n",
       "      <td>NaN</td>\n",
       "      <td>NaN</td>\n",
       "      <td>NaN</td>\n",
       "      <td>...</td>\n",
       "      <td>NaN</td>\n",
       "      <td>NaN</td>\n",
       "      <td>NaN</td>\n",
       "      <td>NaN</td>\n",
       "      <td>NaN</td>\n",
       "      <td>NaN</td>\n",
       "      <td>NaN</td>\n",
       "      <td>NaN</td>\n",
       "      <td>NaN</td>\n",
       "      <td>NaN</td>\n",
       "    </tr>\n",
       "    <tr>\n",
       "      <th>1</th>\n",
       "      <td>01/04/1968</td>\n",
       "      <td>England</td>\n",
       "      <td>E92000001</td>\n",
       "      <td>3408.108064</td>\n",
       "      <td>1.680067</td>\n",
       "      <td>NaN</td>\n",
       "      <td>0.0</td>\n",
       "      <td>NaN</td>\n",
       "      <td>NaN</td>\n",
       "      <td>NaN</td>\n",
       "      <td>...</td>\n",
       "      <td>NaN</td>\n",
       "      <td>NaN</td>\n",
       "      <td>NaN</td>\n",
       "      <td>NaN</td>\n",
       "      <td>NaN</td>\n",
       "      <td>NaN</td>\n",
       "      <td>NaN</td>\n",
       "      <td>NaN</td>\n",
       "      <td>NaN</td>\n",
       "      <td>NaN</td>\n",
       "    </tr>\n",
       "    <tr>\n",
       "      <th>2</th>\n",
       "      <td>01/04/1968</td>\n",
       "      <td>London</td>\n",
       "      <td>E12000007</td>\n",
       "      <td>4418.489911</td>\n",
       "      <td>1.096815</td>\n",
       "      <td>NaN</td>\n",
       "      <td>0.0</td>\n",
       "      <td>NaN</td>\n",
       "      <td>NaN</td>\n",
       "      <td>NaN</td>\n",
       "      <td>...</td>\n",
       "      <td>NaN</td>\n",
       "      <td>NaN</td>\n",
       "      <td>NaN</td>\n",
       "      <td>NaN</td>\n",
       "      <td>NaN</td>\n",
       "      <td>NaN</td>\n",
       "      <td>NaN</td>\n",
       "      <td>NaN</td>\n",
       "      <td>NaN</td>\n",
       "      <td>NaN</td>\n",
       "    </tr>\n",
       "    <tr>\n",
       "      <th>3</th>\n",
       "      <td>01/04/1968</td>\n",
       "      <td>Northern Ireland</td>\n",
       "      <td>N92000001</td>\n",
       "      <td>3661.485500</td>\n",
       "      <td>3.300420</td>\n",
       "      <td>NaN</td>\n",
       "      <td>0.0</td>\n",
       "      <td>NaN</td>\n",
       "      <td>NaN</td>\n",
       "      <td>NaN</td>\n",
       "      <td>...</td>\n",
       "      <td>NaN</td>\n",
       "      <td>NaN</td>\n",
       "      <td>NaN</td>\n",
       "      <td>NaN</td>\n",
       "      <td>NaN</td>\n",
       "      <td>NaN</td>\n",
       "      <td>NaN</td>\n",
       "      <td>NaN</td>\n",
       "      <td>NaN</td>\n",
       "      <td>NaN</td>\n",
       "    </tr>\n",
       "    <tr>\n",
       "      <th>4</th>\n",
       "      <td>01/04/1968</td>\n",
       "      <td>Scotland</td>\n",
       "      <td>S92000003</td>\n",
       "      <td>2844.980688</td>\n",
       "      <td>2.108087</td>\n",
       "      <td>NaN</td>\n",
       "      <td>0.0</td>\n",
       "      <td>NaN</td>\n",
       "      <td>NaN</td>\n",
       "      <td>NaN</td>\n",
       "      <td>...</td>\n",
       "      <td>NaN</td>\n",
       "      <td>NaN</td>\n",
       "      <td>NaN</td>\n",
       "      <td>NaN</td>\n",
       "      <td>NaN</td>\n",
       "      <td>NaN</td>\n",
       "      <td>NaN</td>\n",
       "      <td>NaN</td>\n",
       "      <td>NaN</td>\n",
       "      <td>NaN</td>\n",
       "    </tr>\n",
       "  </tbody>\n",
       "</table>\n",
       "<p>5 rows × 54 columns</p>\n",
       "</div>"
      ],
      "text/plain": [
       "         Date        RegionName   AreaCode  AveragePrice     Index  IndexSA  \\\n",
       "0  01/04/1968     East Midlands  E12000004   3025.670615  1.968954      NaN   \n",
       "1  01/04/1968           England  E92000001   3408.108064  1.680067      NaN   \n",
       "2  01/04/1968            London  E12000007   4418.489911  1.096815      NaN   \n",
       "3  01/04/1968  Northern Ireland  N92000001   3661.485500  3.300420      NaN   \n",
       "4  01/04/1968          Scotland  S92000003   2844.980688  2.108087      NaN   \n",
       "\n",
       "   1m%Change  12m%Change  AveragePriceSA  SalesVolume  ...  NewPrice  \\\n",
       "0        0.0         NaN             NaN          NaN  ...       NaN   \n",
       "1        0.0         NaN             NaN          NaN  ...       NaN   \n",
       "2        0.0         NaN             NaN          NaN  ...       NaN   \n",
       "3        0.0         NaN             NaN          NaN  ...       NaN   \n",
       "4        0.0         NaN             NaN          NaN  ...       NaN   \n",
       "\n",
       "   NewIndex  New1m%Change  New12m%Change  NewSalesVolume  OldPrice  OldIndex  \\\n",
       "0       NaN           NaN            NaN             NaN       NaN       NaN   \n",
       "1       NaN           NaN            NaN             NaN       NaN       NaN   \n",
       "2       NaN           NaN            NaN             NaN       NaN       NaN   \n",
       "3       NaN           NaN            NaN             NaN       NaN       NaN   \n",
       "4       NaN           NaN            NaN             NaN       NaN       NaN   \n",
       "\n",
       "   Old1m%Change  Old12m%Change  OldSalesVolume  \n",
       "0           NaN            NaN             NaN  \n",
       "1           NaN            NaN             NaN  \n",
       "2           NaN            NaN             NaN  \n",
       "3           NaN            NaN             NaN  \n",
       "4           NaN            NaN             NaN  \n",
       "\n",
       "[5 rows x 54 columns]"
      ]
     },
     "execution_count": 2,
     "metadata": {},
     "output_type": "execute_result"
    }
   ],
   "source": [
    "# import the data\n",
    "hpi_data = pd.read_csv('raw_data/uk_hpi.csv')\n",
    "# display the data set\n",
    "hpi_data.head()"
   ]
  },
  {
   "cell_type": "code",
   "execution_count": 4,
   "metadata": {},
   "outputs": [
    {
     "name": "stdout",
     "output_type": "stream",
     "text": [
      "<class 'pandas.core.frame.DataFrame'>\n",
      "RangeIndex: 139365 entries, 0 to 139364\n",
      "Data columns (total 54 columns):\n",
      " #   Column                  Non-Null Count   Dtype  \n",
      "---  ------                  --------------   -----  \n",
      " 0   Date                    139365 non-null  object \n",
      " 1   RegionName              139365 non-null  object \n",
      " 2   AreaCode                139365 non-null  object \n",
      " 3   AveragePrice            139365 non-null  float64\n",
      " 4   Index                   139365 non-null  float64\n",
      " 5   IndexSA                 4884 non-null    float64\n",
      " 6   1m%Change               138941 non-null  float64\n",
      " 7   12m%Change              134553 non-null  float64\n",
      " 8   AveragePriceSA          4884 non-null    float64\n",
      " 9   SalesVolume             134898 non-null  float64\n",
      " 10  DetachedPrice           132852 non-null  float64\n",
      " 11  DetachedIndex           132852 non-null  float64\n",
      " 12  Detached1m%Change       132462 non-null  float64\n",
      " 13  Detached12m%Change      128196 non-null  float64\n",
      " 14  SemiDetachedPrice       132852 non-null  float64\n",
      " 15  SemiDetachedIndex       132852 non-null  float64\n",
      " 16  SemiDetached1m%Change   132462 non-null  float64\n",
      " 17  SemiDetached12m%Change  128196 non-null  float64\n",
      " 18  TerracedPrice           132879 non-null  float64\n",
      " 19  TerracedIndex           132879 non-null  float64\n",
      " 20  Terraced1m%Change       132489 non-null  float64\n",
      " 21  Terraced12m%Change      128223 non-null  float64\n",
      " 22  FlatPrice               133200 non-null  float64\n",
      " 23  FlatIndex               133200 non-null  float64\n",
      " 24  Flat1m%Change           132809 non-null  float64\n",
      " 25  Flat12m%Change          128532 non-null  float64\n",
      " 26  CashPrice               56448 non-null   float64\n",
      " 27  CashIndex               56448 non-null   float64\n",
      " 28  Cash1m%Change           56058 non-null   float64\n",
      " 29  Cash12m%Change          51768 non-null   float64\n",
      " 30  CashSalesVolume         55662 non-null   float64\n",
      " 31  MortgagePrice           56448 non-null   float64\n",
      " 32  MortgageIndex           56448 non-null   float64\n",
      " 33  Mortgage1m%Change       56058 non-null   float64\n",
      " 34  Mortgage12m%Change      51768 non-null   float64\n",
      " 35  MortgageSalesVolume     55663 non-null   float64\n",
      " 36  FTBPrice                56844 non-null   float64\n",
      " 37  FTBIndex                56844 non-null   float64\n",
      " 38  FTB1m%Change            56454 non-null   float64\n",
      " 39  FTB12m%Change           52164 non-null   float64\n",
      " 40  FOOPrice                56448 non-null   float64\n",
      " 41  FOOIndex                56448 non-null   float64\n",
      " 42  FOO1m%Change            56058 non-null   float64\n",
      " 43  FOO12m%Change           51768 non-null   float64\n",
      " 44  NewPrice                132131 non-null  float64\n",
      " 45  NewIndex                132335 non-null  float64\n",
      " 46  New1m%Change            131944 non-null  float64\n",
      " 47  New12m%Change           127667 non-null  float64\n",
      " 48  NewSalesVolume          130081 non-null  float64\n",
      " 49  OldPrice                132412 non-null  float64\n",
      " 50  OldIndex                132412 non-null  float64\n",
      " 51  Old1m%Change            132021 non-null  float64\n",
      " 52  Old12m%Change           127744 non-null  float64\n",
      " 53  OldSalesVolume          132402 non-null  float64\n",
      "dtypes: float64(51), object(3)\n",
      "memory usage: 57.4+ MB\n"
     ]
    }
   ],
   "source": [
    "# print information about hpi data\n",
    "hpi_data.info(verbose=True, show_counts=True)"
   ]
  },
  {
   "cell_type": "code",
   "execution_count": 5,
   "metadata": {},
   "outputs": [
    {
     "data": {
      "text/plain": [
       "(139365, 54)"
      ]
     },
     "execution_count": 5,
     "metadata": {},
     "output_type": "execute_result"
    }
   ],
   "source": [
    "# get dimensions of the dataset\n",
    "hpi_data.shape"
   ]
  },
  {
   "cell_type": "code",
   "execution_count": 6,
   "metadata": {},
   "outputs": [
    {
     "data": {
      "text/plain": [
       "Date                      0.000000\n",
       "RegionName                0.000000\n",
       "AreaCode                  0.000000\n",
       "AveragePrice              0.000000\n",
       "Index                     0.000000\n",
       "IndexSA                   0.964955\n",
       "1m%Change                 0.003042\n",
       "12m%Change                0.034528\n",
       "AveragePriceSA            0.964955\n",
       "SalesVolume               0.032053\n",
       "DetachedPrice             0.046733\n",
       "DetachedIndex             0.046733\n",
       "Detached1m%Change         0.049532\n",
       "Detached12m%Change        0.080142\n",
       "SemiDetachedPrice         0.046733\n",
       "SemiDetachedIndex         0.046733\n",
       "SemiDetached1m%Change     0.049532\n",
       "SemiDetached12m%Change    0.080142\n",
       "TerracedPrice             0.046540\n",
       "TerracedIndex             0.046540\n",
       "Terraced1m%Change         0.049338\n",
       "Terraced12m%Change        0.079948\n",
       "FlatPrice                 0.044236\n",
       "FlatIndex                 0.044236\n",
       "Flat1m%Change             0.047042\n",
       "Flat12m%Change            0.077731\n",
       "CashPrice                 0.594963\n",
       "CashIndex                 0.594963\n",
       "Cash1m%Change             0.597761\n",
       "Cash12m%Change            0.628544\n",
       "CashSalesVolume           0.600603\n",
       "MortgagePrice             0.594963\n",
       "MortgageIndex             0.594963\n",
       "Mortgage1m%Change         0.597761\n",
       "Mortgage12m%Change        0.628544\n",
       "MortgageSalesVolume       0.600596\n",
       "FTBPrice                  0.592121\n",
       "FTBIndex                  0.592121\n",
       "FTB1m%Change              0.594920\n",
       "FTB12m%Change             0.625702\n",
       "FOOPrice                  0.594963\n",
       "FOOIndex                  0.594963\n",
       "FOO1m%Change              0.597761\n",
       "FOO12m%Change             0.628544\n",
       "NewPrice                  0.051907\n",
       "NewIndex                  0.050443\n",
       "New1m%Change              0.053249\n",
       "New12m%Change             0.083938\n",
       "NewSalesVolume            0.066616\n",
       "OldPrice                  0.049891\n",
       "OldIndex                  0.049891\n",
       "Old1m%Change              0.052696\n",
       "Old12m%Change             0.083385\n",
       "OldSalesVolume            0.049962\n",
       "dtype: float64"
      ]
     },
     "execution_count": 6,
     "metadata": {},
     "output_type": "execute_result"
    }
   ],
   "source": [
    "# check for columns that have null values for 50% of the entries\n",
    "hpi_data.isnull().sum()/len(hpi_data)"
   ]
  },
  {
   "cell_type": "code",
   "execution_count": 7,
   "metadata": {},
   "outputs": [],
   "source": [
    "# change date to dattime instead of object\n",
    "hpi_data['Date'] = pd.to_datetime(hpi_data['Date'])\n",
    "# assert statement making sure of conversion to datetime\n",
    "assert hpi_data['Date'].dtype == 'datetime64[ns]'"
   ]
  },
  {
   "cell_type": "code",
   "execution_count": 8,
   "metadata": {},
   "outputs": [],
   "source": [
    "# Define the date range\n",
    "start_date = '2013-01-01'\n",
    "end_date = '2023-12-31'\n",
    "\n",
    "# Filter for the date range\n",
    "hpi_data_filtered = hpi_data[(hpi_data['Date'] >= start_date) & (\n",
    "    hpi_data['Date'] <= end_date)]"
   ]
  },
  {
   "cell_type": "code",
   "execution_count": 9,
   "metadata": {},
   "outputs": [],
   "source": [
    "# Select relevant columns\n",
    "relevant_columns = [\n",
    "    'Date', 'RegionName', 'AreaCode', 'AveragePrice', 'Index', '1m%Change', '12m%Change', 'SalesVolume'\n",
    "]\n",
    "hpi_data_filtered = hpi_data_filtered[relevant_columns]"
   ]
  },
  {
   "cell_type": "code",
   "execution_count": 10,
   "metadata": {},
   "outputs": [],
   "source": [
    "# Drop complete duplicates from ride_sharing\n",
    "hpi_data_filtered = hpi_data_filtered.drop_duplicates()"
   ]
  },
  {
   "cell_type": "code",
   "execution_count": 11,
   "metadata": {},
   "outputs": [
    {
     "data": {
      "text/plain": [
       "Date            0.000000\n",
       "RegionName      0.000000\n",
       "AreaCode        0.000000\n",
       "AveragePrice    0.000000\n",
       "Index           0.000000\n",
       "1m%Change       0.000000\n",
       "12m%Change      0.000000\n",
       "SalesVolume     0.005812\n",
       "dtype: float64"
      ]
     },
     "execution_count": 11,
     "metadata": {},
     "output_type": "execute_result"
    }
   ],
   "source": [
    "hpi_data_filtered.isnull().sum()/len(hpi_data)"
   ]
  },
  {
   "cell_type": "code",
   "execution_count": 12,
   "metadata": {},
   "outputs": [],
   "source": [
    "# Handle missing values by dropping rows with any missing values\n",
    "hpi_data_cleaned = hpi_data_filtered.dropna()"
   ]
  },
  {
   "cell_type": "code",
   "execution_count": 21,
   "metadata": {},
   "outputs": [],
   "source": [
    "# Regions in Merseyside\n",
    "regions = ['Liverpool', 'Prenton', 'Newton-Le-Willows', 'Birkenhead',\n",
    "        'Wirral', 'Bootle', 'St Helens', 'Wallasey', 'Southport',\n",
    "        'Prescot', 'Wigan', 'Widnes', 'Neston', 'Warrington',\n",
    "        'Ellesmere Port', 'Wilmslow', 'Coniston', 'Stockport', 'Northwood',\n",
    "        'Crewe', 'Winsford', 'Merseyside', 'Sefton', 'Wirral', 'St Helens', 'Liverpool', 'Knowsley']\n",
    "hpi_data_cleaned = hpi_data_cleaned[hpi_data_cleaned['RegionName'].isin(regions)]"
   ]
  },
  {
   "cell_type": "code",
   "execution_count": 24,
   "metadata": {},
   "outputs": [],
   "source": [
    "# declare column names for standardisation\n",
    "column_names = ['date', 'region_name', 'area_code', 'average_price', 'index', '1m%_change', '12m%_change', 'sales_volume']\n",
    "# change column names\n",
    "hpi_data_cleaned.columns = column_names"
   ]
  },
  {
   "cell_type": "code",
   "execution_count": 26,
   "metadata": {},
   "outputs": [
    {
     "name": "stdout",
     "output_type": "stream",
     "text": [
      "<class 'pandas.core.frame.DataFrame'>\n",
      "Index: 1170 entries, 86092 to 138542\n",
      "Data columns (total 8 columns):\n",
      " #   Column         Non-Null Count  Dtype         \n",
      "---  ------         --------------  -----         \n",
      " 0   date           1170 non-null   datetime64[ns]\n",
      " 1   region_name    1170 non-null   object        \n",
      " 2   area_code      1170 non-null   object        \n",
      " 3   average_price  1170 non-null   float64       \n",
      " 4   index          1170 non-null   float64       \n",
      " 5   1m%_change     1170 non-null   float64       \n",
      " 6   12m%_change    1170 non-null   float64       \n",
      " 7   sales_volume   1170 non-null   float64       \n",
      "dtypes: datetime64[ns](1), float64(5), object(2)\n",
      "memory usage: 82.3+ KB\n"
     ]
    }
   ],
   "source": [
    "hpi_data_cleaned.info()"
   ]
  },
  {
   "cell_type": "markdown",
   "metadata": {},
   "source": [
    "### Export"
   ]
  },
  {
   "cell_type": "code",
   "execution_count": 27,
   "metadata": {},
   "outputs": [],
   "source": [
    "# Save the filtered and cleaned dataset\n",
    "hpi_data_cleaned.to_csv(\n",
    "    'clean_data/clean_hpi_data.csv', index=False)"
   ]
  }
 ],
 "metadata": {
  "kernelspec": {
   "display_name": "venv",
   "language": "python",
   "name": "python3"
  },
  "language_info": {
   "codemirror_mode": {
    "name": "ipython",
    "version": 3
   },
   "file_extension": ".py",
   "mimetype": "text/x-python",
   "name": "python",
   "nbconvert_exporter": "python",
   "pygments_lexer": "ipython3",
   "version": "3.12.0"
  }
 },
 "nbformat": 4,
 "nbformat_minor": 2
}
