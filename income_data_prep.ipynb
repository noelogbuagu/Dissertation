{
 "cells": [
  {
   "cell_type": "markdown",
   "metadata": {},
   "source": [
    "# Income Data Prep"
   ]
  },
  {
   "cell_type": "markdown",
   "metadata": {},
   "source": [
    "## Import Libraries"
   ]
  },
  {
   "cell_type": "code",
   "execution_count": 39,
   "metadata": {},
   "outputs": [],
   "source": [
    "# import libraries\n",
    "import pandas as pd\n",
    "import plotly.express as px\n",
    "import seaborn as sns\n",
    "import matplotlib.pyplot as plt\n",
    "import numpy as np\n",
    "import datetime as dt\n",
    "import warnings\n",
    "warnings.filterwarnings('ignore')"
   ]
  },
  {
   "cell_type": "markdown",
   "metadata": {},
   "source": [
    "## Prepare Data"
   ]
  },
  {
   "cell_type": "markdown",
   "metadata": {},
   "source": [
    "### Import"
   ]
  },
  {
   "cell_type": "code",
   "execution_count": 40,
   "metadata": {},
   "outputs": [
    {
     "data": {
      "text/html": [
       "<div>\n",
       "<style scoped>\n",
       "    .dataframe tbody tr th:only-of-type {\n",
       "        vertical-align: middle;\n",
       "    }\n",
       "\n",
       "    .dataframe tbody tr th {\n",
       "        vertical-align: top;\n",
       "    }\n",
       "\n",
       "    .dataframe thead th {\n",
       "        text-align: right;\n",
       "    }\n",
       "</style>\n",
       "<table border=\"1\" class=\"dataframe\">\n",
       "  <thead>\n",
       "    <tr style=\"text-align: right;\">\n",
       "      <th></th>\n",
       "      <th>Area code</th>\n",
       "      <th>Area name</th>\n",
       "      <th>Time period</th>\n",
       "      <th>Value (£)</th>\n",
       "      <th>Confidence interval lower</th>\n",
       "      <th>Confidence interval upper</th>\n",
       "    </tr>\n",
       "  </thead>\n",
       "  <tbody>\n",
       "    <tr>\n",
       "      <th>0</th>\n",
       "      <td>E06000001</td>\n",
       "      <td>Hartlepool</td>\n",
       "      <td>2008</td>\n",
       "      <td>370.5</td>\n",
       "      <td>310.953240</td>\n",
       "      <td>430.046760</td>\n",
       "    </tr>\n",
       "    <tr>\n",
       "      <th>1</th>\n",
       "      <td>E06000001</td>\n",
       "      <td>Hartlepool</td>\n",
       "      <td>2009</td>\n",
       "      <td>363.1</td>\n",
       "      <td>299.760836</td>\n",
       "      <td>426.439164</td>\n",
       "    </tr>\n",
       "    <tr>\n",
       "      <th>2</th>\n",
       "      <td>E06000001</td>\n",
       "      <td>Hartlepool</td>\n",
       "      <td>2010</td>\n",
       "      <td>383.7</td>\n",
       "      <td>326.544048</td>\n",
       "      <td>440.855952</td>\n",
       "    </tr>\n",
       "    <tr>\n",
       "      <th>3</th>\n",
       "      <td>E06000001</td>\n",
       "      <td>Hartlepool</td>\n",
       "      <td>2011</td>\n",
       "      <td>368.5</td>\n",
       "      <td>309.274680</td>\n",
       "      <td>427.725320</td>\n",
       "    </tr>\n",
       "    <tr>\n",
       "      <th>4</th>\n",
       "      <td>E06000001</td>\n",
       "      <td>Hartlepool</td>\n",
       "      <td>2012</td>\n",
       "      <td>391.4</td>\n",
       "      <td>323.124184</td>\n",
       "      <td>459.675816</td>\n",
       "    </tr>\n",
       "  </tbody>\n",
       "</table>\n",
       "</div>"
      ],
      "text/plain": [
       "   Area code   Area name  Time period  Value (£)  Confidence interval lower  \\\n",
       "0  E06000001  Hartlepool         2008      370.5                 310.953240   \n",
       "1  E06000001  Hartlepool         2009      363.1                 299.760836   \n",
       "2  E06000001  Hartlepool         2010      383.7                 326.544048   \n",
       "3  E06000001  Hartlepool         2011      368.5                 309.274680   \n",
       "4  E06000001  Hartlepool         2012      391.4                 323.124184   \n",
       "\n",
       "   Confidence interval upper  \n",
       "0                 430.046760  \n",
       "1                 426.439164  \n",
       "2                 440.855952  \n",
       "3                 427.725320  \n",
       "4                 459.675816  "
      ]
     },
     "execution_count": 40,
     "metadata": {},
     "output_type": "execute_result"
    }
   ],
   "source": [
    "# employment_data_path = 'raw_data/employment_data.csv'\n",
    "raw_income_data = pd.read_csv('raw_data/income_data.csv')\n",
    "\n",
    "# Display the first few rows of the dataset\n",
    "raw_income_data.head()"
   ]
  },
  {
   "cell_type": "code",
   "execution_count": 41,
   "metadata": {},
   "outputs": [
    {
     "name": "stdout",
     "output_type": "stream",
     "text": [
      "<class 'pandas.core.frame.DataFrame'>\n",
      "RangeIndex: 5603 entries, 0 to 5602\n",
      "Data columns (total 6 columns):\n",
      " #   Column                     Non-Null Count  Dtype  \n",
      "---  ------                     --------------  -----  \n",
      " 0   Area code                  5603 non-null   object \n",
      " 1   Area name                  5603 non-null   object \n",
      " 2   Time period                5603 non-null   int64  \n",
      " 3   Value (£)                  5559 non-null   float64\n",
      " 4   Confidence interval lower  5471 non-null   float64\n",
      " 5   Confidence interval upper  5471 non-null   float64\n",
      "dtypes: float64(3), int64(1), object(2)\n",
      "memory usage: 262.8+ KB\n"
     ]
    }
   ],
   "source": [
    "# Display data types\n",
    "raw_income_data.info(verbose=True, show_counts=True)"
   ]
  },
  {
   "cell_type": "code",
   "execution_count": 42,
   "metadata": {},
   "outputs": [
    {
     "data": {
      "text/plain": [
       "(5603, 6)"
      ]
     },
     "execution_count": 42,
     "metadata": {},
     "output_type": "execute_result"
    }
   ],
   "source": [
    "# Display shape of the data\n",
    "raw_income_data.shape"
   ]
  },
  {
   "cell_type": "code",
   "execution_count": 43,
   "metadata": {},
   "outputs": [
    {
     "data": {
      "text/plain": [
       "Area code                    0.000000\n",
       "Area name                    0.000000\n",
       "Time period                  0.000000\n",
       "Value (£)                    0.007853\n",
       "Confidence interval lower    0.023559\n",
       "Confidence interval upper    0.023559\n",
       "dtype: float64"
      ]
     },
     "execution_count": 43,
     "metadata": {},
     "output_type": "execute_result"
    }
   ],
   "source": [
    "# check for columns that have null values for 50% of the entries\n",
    "raw_income_data.isnull().sum()/len(raw_income_data)"
   ]
  },
  {
   "cell_type": "code",
   "execution_count": 44,
   "metadata": {},
   "outputs": [],
   "source": [
    "# list of new column names\n",
    "income_data_columns = ['area_code', 'area_name', 'year',\n",
    "                           'gross_median_weekly_pay', 'confidence_interval_lower', 'confidence_interval_upper']\n",
    "# change column names\n",
    "raw_income_data.columns = income_data_columns"
   ]
  },
  {
   "cell_type": "code",
   "execution_count": 45,
   "metadata": {},
   "outputs": [
    {
     "data": {
      "text/plain": [
       "Index(['area_code', 'area_name', 'year', 'gross_median_weekly_pay',\n",
       "       'confidence_interval_lower', 'confidence_interval_upper'],\n",
       "      dtype='object')"
      ]
     },
     "execution_count": 45,
     "metadata": {},
     "output_type": "execute_result"
    }
   ],
   "source": [
    "# View changed column names\n",
    "raw_income_data.columns"
   ]
  },
  {
   "cell_type": "code",
   "execution_count": 46,
   "metadata": {},
   "outputs": [],
   "source": [
    "# relevant columns\n",
    "relevant_columns = ['area_code', 'area_name',\n",
    "                    'year', 'gross_median_weekly_pay']\n",
    "# select relevant columns\n",
    "raw_income_data = raw_income_data[relevant_columns]"
   ]
  },
  {
   "cell_type": "code",
   "execution_count": 47,
   "metadata": {},
   "outputs": [],
   "source": [
    "# relevant area codes\n",
    "area_codes = ['E08000011', 'E08000012', 'E11000002', 'E08000014', 'E08000013',\n",
    "              'E08000007', 'E06000007', 'E08000010', 'E08000015']\n",
    "\n",
    "# Regions in Merseyside\n",
    "regions = ['Prenton', 'Newton-Le-Willows', 'Birkenhead',\n",
    "           'Wirral', 'Bootle', 'St Helens', 'Wallasey', 'Southport',\n",
    "           'Prescot', 'Wigan', 'Widnes', 'Neston', 'Warrington',\n",
    "           'Ellesmere Port', 'Wilmslow', 'Coniston', 'Stockport', 'Northwood',\n",
    "           'Crewe', 'Winsford', 'Merseyside', 'Sefton', 'Wirral', 'Liverpool', 'Knowsley']\n",
    "\n",
    "# filter for relevant area codes and names\n",
    "raw_income_data = raw_income_data[(raw_income_data['area_name'].isin(\n",
    "    regions)) | (raw_income_data['area_code'].isin(\n",
    "        area_codes))].sort_values('year')"
   ]
  },
  {
   "cell_type": "code",
   "execution_count": 48,
   "metadata": {},
   "outputs": [],
   "source": [
    "# Handle missing values by dropping rows with any missing values\n",
    "clean_income_data = raw_income_data.dropna()"
   ]
  },
  {
   "cell_type": "code",
   "execution_count": 49,
   "metadata": {},
   "outputs": [
    {
     "name": "stdout",
     "output_type": "stream",
     "text": [
      "<class 'pandas.core.frame.DataFrame'>\n",
      "Index: 128 entries, 96 to 3783\n",
      "Data columns (total 4 columns):\n",
      " #   Column                   Non-Null Count  Dtype  \n",
      "---  ------                   --------------  -----  \n",
      " 0   area_code                128 non-null    object \n",
      " 1   area_name                128 non-null    object \n",
      " 2   year                     128 non-null    int64  \n",
      " 3   gross_median_weekly_pay  128 non-null    float64\n",
      "dtypes: float64(1), int64(1), object(2)\n",
      "memory usage: 5.0+ KB\n"
     ]
    }
   ],
   "source": [
    "# view cleaned data\n",
    "clean_income_data.info(verbose=True, show_counts=True)"
   ]
  },
  {
   "cell_type": "code",
   "execution_count": 50,
   "metadata": {},
   "outputs": [],
   "source": [
    "# Convert the year column to string, then to datetime\n",
    "clean_income_data['year'] = clean_income_data['year'].astype(str)\n",
    "clean_income_data['year'] = pd.to_datetime(\n",
    "    clean_income_data['year'], format='%Y')\n",
    "\n",
    "# to keep only the year part\n",
    "clean_income_data['year'] = clean_income_data['year'].dt.year"
   ]
  },
  {
   "cell_type": "code",
   "execution_count": 51,
   "metadata": {},
   "outputs": [],
   "source": [
    "# Aggregate the data if necessary (e.g., by region or city)\n",
    "# Assuming there's a column 'Region' or 'City'\n",
    "clean_income_data = clean_income_data.groupby(['area_code', 'area_name', 'year']).agg({\n",
    "    'gross_median_weekly_pay': 'mean'\n",
    "}).reset_index()"
   ]
  },
  {
   "cell_type": "markdown",
   "metadata": {},
   "source": [
    "### Export"
   ]
  },
  {
   "cell_type": "code",
   "execution_count": 52,
   "metadata": {},
   "outputs": [],
   "source": [
    "# Save the filtered and cleaned dataset\n",
    "clean_income_data.to_csv(\n",
    "    'clean_data/clean_income_data.csv', index=False)"
   ]
  },
  {
   "cell_type": "code",
   "execution_count": 53,
   "metadata": {},
   "outputs": [
    {
     "data": {
      "text/html": [
       "<div>\n",
       "<style scoped>\n",
       "    .dataframe tbody tr th:only-of-type {\n",
       "        vertical-align: middle;\n",
       "    }\n",
       "\n",
       "    .dataframe tbody tr th {\n",
       "        vertical-align: top;\n",
       "    }\n",
       "\n",
       "    .dataframe thead th {\n",
       "        text-align: right;\n",
       "    }\n",
       "</style>\n",
       "<table border=\"1\" class=\"dataframe\">\n",
       "  <thead>\n",
       "    <tr style=\"text-align: right;\">\n",
       "      <th></th>\n",
       "      <th>area_code</th>\n",
       "      <th>area_name</th>\n",
       "      <th>year</th>\n",
       "      <th>gross_median_weekly_pay</th>\n",
       "    </tr>\n",
       "  </thead>\n",
       "  <tbody>\n",
       "    <tr>\n",
       "      <th>0</th>\n",
       "      <td>E06000007</td>\n",
       "      <td>Warrington</td>\n",
       "      <td>2008</td>\n",
       "      <td>410.2</td>\n",
       "    </tr>\n",
       "    <tr>\n",
       "      <th>1</th>\n",
       "      <td>E06000007</td>\n",
       "      <td>Warrington</td>\n",
       "      <td>2009</td>\n",
       "      <td>424.2</td>\n",
       "    </tr>\n",
       "    <tr>\n",
       "      <th>2</th>\n",
       "      <td>E06000007</td>\n",
       "      <td>Warrington</td>\n",
       "      <td>2010</td>\n",
       "      <td>428.5</td>\n",
       "    </tr>\n",
       "    <tr>\n",
       "      <th>3</th>\n",
       "      <td>E06000007</td>\n",
       "      <td>Warrington</td>\n",
       "      <td>2011</td>\n",
       "      <td>402.7</td>\n",
       "    </tr>\n",
       "    <tr>\n",
       "      <th>4</th>\n",
       "      <td>E06000007</td>\n",
       "      <td>Warrington</td>\n",
       "      <td>2012</td>\n",
       "      <td>411.8</td>\n",
       "    </tr>\n",
       "    <tr>\n",
       "      <th>...</th>\n",
       "      <td>...</td>\n",
       "      <td>...</td>\n",
       "      <td>...</td>\n",
       "      <td>...</td>\n",
       "    </tr>\n",
       "    <tr>\n",
       "      <th>123</th>\n",
       "      <td>E08000015</td>\n",
       "      <td>Wirral</td>\n",
       "      <td>2019</td>\n",
       "      <td>465.3</td>\n",
       "    </tr>\n",
       "    <tr>\n",
       "      <th>124</th>\n",
       "      <td>E08000015</td>\n",
       "      <td>Wirral</td>\n",
       "      <td>2020</td>\n",
       "      <td>475.3</td>\n",
       "    </tr>\n",
       "    <tr>\n",
       "      <th>125</th>\n",
       "      <td>E08000015</td>\n",
       "      <td>Wirral</td>\n",
       "      <td>2021</td>\n",
       "      <td>469.7</td>\n",
       "    </tr>\n",
       "    <tr>\n",
       "      <th>126</th>\n",
       "      <td>E08000015</td>\n",
       "      <td>Wirral</td>\n",
       "      <td>2022</td>\n",
       "      <td>522.0</td>\n",
       "    </tr>\n",
       "    <tr>\n",
       "      <th>127</th>\n",
       "      <td>E08000015</td>\n",
       "      <td>Wirral</td>\n",
       "      <td>2023</td>\n",
       "      <td>586.5</td>\n",
       "    </tr>\n",
       "  </tbody>\n",
       "</table>\n",
       "<p>128 rows × 4 columns</p>\n",
       "</div>"
      ],
      "text/plain": [
       "     area_code   area_name  year  gross_median_weekly_pay\n",
       "0    E06000007  Warrington  2008                    410.2\n",
       "1    E06000007  Warrington  2009                    424.2\n",
       "2    E06000007  Warrington  2010                    428.5\n",
       "3    E06000007  Warrington  2011                    402.7\n",
       "4    E06000007  Warrington  2012                    411.8\n",
       "..         ...         ...   ...                      ...\n",
       "123  E08000015      Wirral  2019                    465.3\n",
       "124  E08000015      Wirral  2020                    475.3\n",
       "125  E08000015      Wirral  2021                    469.7\n",
       "126  E08000015      Wirral  2022                    522.0\n",
       "127  E08000015      Wirral  2023                    586.5\n",
       "\n",
       "[128 rows x 4 columns]"
      ]
     },
     "execution_count": 53,
     "metadata": {},
     "output_type": "execute_result"
    }
   ],
   "source": [
    "clean_income_data"
   ]
  }
 ],
 "metadata": {
  "kernelspec": {
   "display_name": "venv",
   "language": "python",
   "name": "python3"
  },
  "language_info": {
   "codemirror_mode": {
    "name": "ipython",
    "version": 3
   },
   "file_extension": ".py",
   "mimetype": "text/x-python",
   "name": "python",
   "nbconvert_exporter": "python",
   "pygments_lexer": "ipython3",
   "version": "3.12.0"
  }
 },
 "nbformat": 4,
 "nbformat_minor": 2
}
