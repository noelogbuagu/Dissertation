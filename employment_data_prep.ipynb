{
 "cells": [
  {
   "cell_type": "markdown",
   "metadata": {},
   "source": [
    "# Employment Rate Data Prep"
   ]
  },
  {
   "cell_type": "markdown",
   "metadata": {},
   "source": [
    "## Import Libraries"
   ]
  },
  {
   "cell_type": "code",
   "execution_count": 25,
   "metadata": {},
   "outputs": [],
   "source": [
    "# import libraries\n",
    "import pandas as pd\n",
    "import plotly.express as px\n",
    "import seaborn as sns\n",
    "import matplotlib.pyplot as plt\n",
    "import numpy as np\n",
    "import datetime as dt\n",
    "import warnings\n",
    "warnings.filterwarnings('ignore')"
   ]
  },
  {
   "cell_type": "markdown",
   "metadata": {},
   "source": [
    "## Prepare Data"
   ]
  },
  {
   "cell_type": "markdown",
   "metadata": {},
   "source": [
    "### Import"
   ]
  },
  {
   "cell_type": "code",
   "execution_count": 26,
   "metadata": {},
   "outputs": [
    {
     "data": {
      "text/html": [
       "<div>\n",
       "<style scoped>\n",
       "    .dataframe tbody tr th:only-of-type {\n",
       "        vertical-align: middle;\n",
       "    }\n",
       "\n",
       "    .dataframe tbody tr th {\n",
       "        vertical-align: top;\n",
       "    }\n",
       "\n",
       "    .dataframe thead th {\n",
       "        text-align: right;\n",
       "    }\n",
       "</style>\n",
       "<table border=\"1\" class=\"dataframe\">\n",
       "  <thead>\n",
       "    <tr style=\"text-align: right;\">\n",
       "      <th></th>\n",
       "      <th>Area code</th>\n",
       "      <th>Area name</th>\n",
       "      <th>Time period</th>\n",
       "      <th>Value (%)</th>\n",
       "      <th>Confidence interval lower</th>\n",
       "      <th>Confidence interval upper</th>\n",
       "    </tr>\n",
       "  </thead>\n",
       "  <tbody>\n",
       "    <tr>\n",
       "      <th>0</th>\n",
       "      <td>E06000001</td>\n",
       "      <td>Hartlepool</td>\n",
       "      <td>2004</td>\n",
       "      <td>63.0</td>\n",
       "      <td>60.3</td>\n",
       "      <td>65.7</td>\n",
       "    </tr>\n",
       "    <tr>\n",
       "      <th>1</th>\n",
       "      <td>E06000001</td>\n",
       "      <td>Hartlepool</td>\n",
       "      <td>2005</td>\n",
       "      <td>64.7</td>\n",
       "      <td>62.1</td>\n",
       "      <td>67.3</td>\n",
       "    </tr>\n",
       "    <tr>\n",
       "      <th>2</th>\n",
       "      <td>E06000001</td>\n",
       "      <td>Hartlepool</td>\n",
       "      <td>2006</td>\n",
       "      <td>64.6</td>\n",
       "      <td>61.9</td>\n",
       "      <td>67.3</td>\n",
       "    </tr>\n",
       "    <tr>\n",
       "      <th>3</th>\n",
       "      <td>E06000001</td>\n",
       "      <td>Hartlepool</td>\n",
       "      <td>2007</td>\n",
       "      <td>63.9</td>\n",
       "      <td>61.0</td>\n",
       "      <td>66.8</td>\n",
       "    </tr>\n",
       "    <tr>\n",
       "      <th>4</th>\n",
       "      <td>E06000001</td>\n",
       "      <td>Hartlepool</td>\n",
       "      <td>2008</td>\n",
       "      <td>65.2</td>\n",
       "      <td>62.4</td>\n",
       "      <td>68.0</td>\n",
       "    </tr>\n",
       "  </tbody>\n",
       "</table>\n",
       "</div>"
      ],
      "text/plain": [
       "   Area code   Area name  Time period  Value (%)  Confidence interval lower  \\\n",
       "0  E06000001  Hartlepool         2004       63.0                       60.3   \n",
       "1  E06000001  Hartlepool         2005       64.7                       62.1   \n",
       "2  E06000001  Hartlepool         2006       64.6                       61.9   \n",
       "3  E06000001  Hartlepool         2007       63.9                       61.0   \n",
       "4  E06000001  Hartlepool         2008       65.2                       62.4   \n",
       "\n",
       "   Confidence interval upper  \n",
       "0                       65.7  \n",
       "1                       67.3  \n",
       "2                       67.3  \n",
       "3                       66.8  \n",
       "4                       68.0  "
      ]
     },
     "execution_count": 26,
     "metadata": {},
     "output_type": "execute_result"
    }
   ],
   "source": [
    "# employment_data_path = 'raw_data/employment_data.csv'\n",
    "raw_employment_data = pd.read_csv('raw_data/employment_data.csv')\n",
    "\n",
    "# Display the first few rows of the dataset\n",
    "raw_employment_data.head()"
   ]
  },
  {
   "cell_type": "code",
   "execution_count": 27,
   "metadata": {},
   "outputs": [
    {
     "name": "stdout",
     "output_type": "stream",
     "text": [
      "<class 'pandas.core.frame.DataFrame'>\n",
      "RangeIndex: 7260 entries, 0 to 7259\n",
      "Data columns (total 6 columns):\n",
      " #   Column                     Non-Null Count  Dtype  \n",
      "---  ------                     --------------  -----  \n",
      " 0   Area code                  7260 non-null   object \n",
      " 1   Area name                  7260 non-null   object \n",
      " 2   Time period                7260 non-null   int64  \n",
      " 3   Value (%)                  7222 non-null   float64\n",
      " 4   Confidence interval lower  7222 non-null   float64\n",
      " 5   Confidence interval upper  7222 non-null   float64\n",
      "dtypes: float64(3), int64(1), object(2)\n",
      "memory usage: 340.4+ KB\n"
     ]
    }
   ],
   "source": [
    "# Display data types\n",
    "raw_employment_data.info(verbose=True, show_counts=True)"
   ]
  },
  {
   "cell_type": "code",
   "execution_count": 28,
   "metadata": {},
   "outputs": [
    {
     "data": {
      "text/plain": [
       "(7260, 6)"
      ]
     },
     "execution_count": 28,
     "metadata": {},
     "output_type": "execute_result"
    }
   ],
   "source": [
    "# Display shape of the data\n",
    "raw_employment_data.shape"
   ]
  },
  {
   "cell_type": "code",
   "execution_count": 29,
   "metadata": {},
   "outputs": [
    {
     "data": {
      "text/plain": [
       "Area code                    0.000000\n",
       "Area name                    0.000000\n",
       "Time period                  0.000000\n",
       "Value (%)                    0.005234\n",
       "Confidence interval lower    0.005234\n",
       "Confidence interval upper    0.005234\n",
       "dtype: float64"
      ]
     },
     "execution_count": 29,
     "metadata": {},
     "output_type": "execute_result"
    }
   ],
   "source": [
    "# check for columns that have null values for 50% of the entries\n",
    "raw_employment_data.isnull().sum()/len(raw_employment_data)"
   ]
  },
  {
   "cell_type": "code",
   "execution_count": 30,
   "metadata": {},
   "outputs": [],
   "source": [
    "# list of new column names\n",
    "employment_data_columns = ['area_code', 'area_name', 'year', 'employment_rate', 'confidence_interval_lower', 'confidence_interval_upper']\n",
    "# change column names\n",
    "raw_employment_data.columns = employment_data_columns"
   ]
  },
  {
   "cell_type": "code",
   "execution_count": 31,
   "metadata": {},
   "outputs": [
    {
     "data": {
      "text/plain": [
       "Index(['area_code', 'area_name', 'year', 'employment_rate',\n",
       "       'confidence_interval_lower', 'confidence_interval_upper'],\n",
       "      dtype='object')"
      ]
     },
     "execution_count": 31,
     "metadata": {},
     "output_type": "execute_result"
    }
   ],
   "source": [
    "# View changed column names\n",
    "raw_employment_data.columns"
   ]
  },
  {
   "cell_type": "code",
   "execution_count": 32,
   "metadata": {},
   "outputs": [],
   "source": [
    "# Define date ranges\n",
    "start_year = 2013\n",
    "end_year = 2023\n",
    "\n",
    "# filter for employment rate in desired date range\n",
    "raw_employment_data = raw_employment_data[(\n",
    "    raw_employment_data['year'] >= 2013) & (raw_employment_data['year'] <= 2023)]"
   ]
  },
  {
   "cell_type": "code",
   "execution_count": 33,
   "metadata": {},
   "outputs": [],
   "source": [
    "# relevant columns\n",
    "relevant_columns = ['area_code', 'area_name', 'year', 'employment_rate']\n",
    "# select relevant columns\n",
    "raw_employment_data = raw_employment_data[relevant_columns]"
   ]
  },
  {
   "cell_type": "code",
   "execution_count": 34,
   "metadata": {},
   "outputs": [],
   "source": [
    "# relevant area codes\n",
    "area_codes = ['E08000011', 'E08000012', 'E11000002', 'E08000014', 'E08000013',\n",
    "            'E08000007', 'E06000007', 'E08000010', 'E08000015']\n",
    "\n",
    "# Regions in Merseyside\n",
    "regions = ['Prenton', 'Newton-Le-Willows', 'Birkenhead',\n",
    "           'Wirral', 'Bootle', 'St Helens', 'Wallasey', 'Southport',\n",
    "           'Prescot', 'Wigan', 'Widnes', 'Neston', 'Warrington',\n",
    "           'Ellesmere Port', 'Wilmslow', 'Coniston', 'Stockport', 'Northwood',\n",
    "           'Crewe', 'Winsford', 'Merseyside', 'Sefton', 'Wirral', 'Liverpool', 'Knowsley']\n",
    "\n",
    "# filter for relevant area codes and names\n",
    "raw_employment_data = raw_employment_data[(raw_employment_data['area_name'].isin(\n",
    "    regions)) | (raw_employment_data['area_code'].isin(\n",
    "        area_codes))].sort_values('year')"
   ]
  },
  {
   "cell_type": "code",
   "execution_count": 35,
   "metadata": {},
   "outputs": [],
   "source": [
    "# Handle missing values by dropping rows with any missing values\n",
    "clean_employment_data = raw_employment_data.dropna()"
   ]
  },
  {
   "cell_type": "code",
   "execution_count": 36,
   "metadata": {},
   "outputs": [
    {
     "name": "stdout",
     "output_type": "stream",
     "text": [
      "<class 'pandas.core.frame.DataFrame'>\n",
      "Index: 88 entries, 129 to 5099\n",
      "Data columns (total 4 columns):\n",
      " #   Column           Non-Null Count  Dtype  \n",
      "---  ------           --------------  -----  \n",
      " 0   area_code        88 non-null     object \n",
      " 1   area_name        88 non-null     object \n",
      " 2   year             88 non-null     int64  \n",
      " 3   employment_rate  88 non-null     float64\n",
      "dtypes: float64(1), int64(1), object(2)\n",
      "memory usage: 3.4+ KB\n"
     ]
    }
   ],
   "source": [
    "# view cleaned data\n",
    "clean_employment_data.info(verbose=True, show_counts=True)"
   ]
  },
  {
   "cell_type": "code",
   "execution_count": 37,
   "metadata": {},
   "outputs": [],
   "source": [
    "# Convert the year column to string, then to datetime\n",
    "clean_employment_data['year'] = clean_employment_data['year'].astype(str)\n",
    "clean_employment_data['year'] = pd.to_datetime(\n",
    "    clean_employment_data['year'], format='%Y')\n",
    "\n",
    "# to keep only the year part\n",
    "clean_employment_data['year'] = clean_employment_data['year'].dt.year"
   ]
  },
  {
   "cell_type": "code",
   "execution_count": 38,
   "metadata": {},
   "outputs": [],
   "source": [
    "# Convert employment rate from percentatage to rates\n",
    "clean_employment_data['employment_rate'] = clean_employment_data['employment_rate']/100"
   ]
  },
  {
   "cell_type": "code",
   "execution_count": 39,
   "metadata": {},
   "outputs": [],
   "source": [
    "# Aggregate the data\n",
    "clean_employment_data = clean_employment_data.groupby(['area_code', 'area_name', 'year']).agg({\n",
    "    'employment_rate': 'mean'\n",
    "}).reset_index()"
   ]
  },
  {
   "cell_type": "code",
   "execution_count": 40,
   "metadata": {},
   "outputs": [
    {
     "data": {
      "text/html": [
       "<div>\n",
       "<style scoped>\n",
       "    .dataframe tbody tr th:only-of-type {\n",
       "        vertical-align: middle;\n",
       "    }\n",
       "\n",
       "    .dataframe tbody tr th {\n",
       "        vertical-align: top;\n",
       "    }\n",
       "\n",
       "    .dataframe thead th {\n",
       "        text-align: right;\n",
       "    }\n",
       "</style>\n",
       "<table border=\"1\" class=\"dataframe\">\n",
       "  <thead>\n",
       "    <tr style=\"text-align: right;\">\n",
       "      <th></th>\n",
       "      <th>area_code</th>\n",
       "      <th>area_name</th>\n",
       "      <th>year</th>\n",
       "      <th>employment_rate</th>\n",
       "    </tr>\n",
       "  </thead>\n",
       "  <tbody>\n",
       "    <tr>\n",
       "      <th>0</th>\n",
       "      <td>E06000007</td>\n",
       "      <td>Warrington</td>\n",
       "      <td>2013</td>\n",
       "      <td>0.782</td>\n",
       "    </tr>\n",
       "    <tr>\n",
       "      <th>1</th>\n",
       "      <td>E06000007</td>\n",
       "      <td>Warrington</td>\n",
       "      <td>2014</td>\n",
       "      <td>0.779</td>\n",
       "    </tr>\n",
       "    <tr>\n",
       "      <th>2</th>\n",
       "      <td>E06000007</td>\n",
       "      <td>Warrington</td>\n",
       "      <td>2015</td>\n",
       "      <td>0.779</td>\n",
       "    </tr>\n",
       "    <tr>\n",
       "      <th>3</th>\n",
       "      <td>E06000007</td>\n",
       "      <td>Warrington</td>\n",
       "      <td>2016</td>\n",
       "      <td>0.762</td>\n",
       "    </tr>\n",
       "    <tr>\n",
       "      <th>4</th>\n",
       "      <td>E06000007</td>\n",
       "      <td>Warrington</td>\n",
       "      <td>2017</td>\n",
       "      <td>0.774</td>\n",
       "    </tr>\n",
       "    <tr>\n",
       "      <th>...</th>\n",
       "      <td>...</td>\n",
       "      <td>...</td>\n",
       "      <td>...</td>\n",
       "      <td>...</td>\n",
       "    </tr>\n",
       "    <tr>\n",
       "      <th>83</th>\n",
       "      <td>E08000015</td>\n",
       "      <td>Wirral</td>\n",
       "      <td>2019</td>\n",
       "      <td>0.768</td>\n",
       "    </tr>\n",
       "    <tr>\n",
       "      <th>84</th>\n",
       "      <td>E08000015</td>\n",
       "      <td>Wirral</td>\n",
       "      <td>2020</td>\n",
       "      <td>0.705</td>\n",
       "    </tr>\n",
       "    <tr>\n",
       "      <th>85</th>\n",
       "      <td>E08000015</td>\n",
       "      <td>Wirral</td>\n",
       "      <td>2021</td>\n",
       "      <td>0.711</td>\n",
       "    </tr>\n",
       "    <tr>\n",
       "      <th>86</th>\n",
       "      <td>E08000015</td>\n",
       "      <td>Wirral</td>\n",
       "      <td>2022</td>\n",
       "      <td>0.769</td>\n",
       "    </tr>\n",
       "    <tr>\n",
       "      <th>87</th>\n",
       "      <td>E08000015</td>\n",
       "      <td>Wirral</td>\n",
       "      <td>2023</td>\n",
       "      <td>0.742</td>\n",
       "    </tr>\n",
       "  </tbody>\n",
       "</table>\n",
       "<p>88 rows × 4 columns</p>\n",
       "</div>"
      ],
      "text/plain": [
       "    area_code   area_name  year  employment_rate\n",
       "0   E06000007  Warrington  2013            0.782\n",
       "1   E06000007  Warrington  2014            0.779\n",
       "2   E06000007  Warrington  2015            0.779\n",
       "3   E06000007  Warrington  2016            0.762\n",
       "4   E06000007  Warrington  2017            0.774\n",
       "..        ...         ...   ...              ...\n",
       "83  E08000015      Wirral  2019            0.768\n",
       "84  E08000015      Wirral  2020            0.705\n",
       "85  E08000015      Wirral  2021            0.711\n",
       "86  E08000015      Wirral  2022            0.769\n",
       "87  E08000015      Wirral  2023            0.742\n",
       "\n",
       "[88 rows x 4 columns]"
      ]
     },
     "execution_count": 40,
     "metadata": {},
     "output_type": "execute_result"
    }
   ],
   "source": [
    "clean_employment_data"
   ]
  },
  {
   "cell_type": "markdown",
   "metadata": {},
   "source": [
    "### Export"
   ]
  },
  {
   "cell_type": "code",
   "execution_count": 41,
   "metadata": {},
   "outputs": [],
   "source": [
    "# Save the filtered and cleaned dataset\n",
    "clean_employment_data.to_csv(\n",
    "    'clean_data/clean_employment_data.csv', index=False)"
   ]
  }
 ],
 "metadata": {
  "kernelspec": {
   "display_name": "venv",
   "language": "python",
   "name": "python3"
  },
  "language_info": {
   "codemirror_mode": {
    "name": "ipython",
    "version": 3
   },
   "file_extension": ".py",
   "mimetype": "text/x-python",
   "name": "python",
   "nbconvert_exporter": "python",
   "pygments_lexer": "ipython3",
   "version": "3.12.0"
  }
 },
 "nbformat": 4,
 "nbformat_minor": 2
}
