{
 "cells": [
  {
   "cell_type": "markdown",
   "metadata": {},
   "source": [
    "# Flood Risk Areas"
   ]
  },
  {
   "cell_type": "markdown",
   "metadata": {},
   "source": [
    "## Import Libraries\n"
   ]
  },
  {
   "cell_type": "code",
   "execution_count": 46,
   "metadata": {},
   "outputs": [],
   "source": [
    "# import libraries\n",
    "import pandas as pd\n",
    "import geopandas as gpd\n",
    "from shapely.geometry import shape\n",
    "import requests\n",
    "import warnings\n",
    "warnings.filterwarnings('ignore')"
   ]
  },
  {
   "cell_type": "markdown",
   "metadata": {},
   "source": [
    "## Prepare Data"
   ]
  },
  {
   "cell_type": "markdown",
   "metadata": {},
   "source": [
    "### Import"
   ]
  },
  {
   "cell_type": "code",
   "execution_count": 62,
   "metadata": {},
   "outputs": [],
   "source": [
    "# Define the API endpoint\n",
    "api_url = \"https://environment.data.gov.uk/flood-monitoring/id/floodAreas?&_limit=5000\"\n",
    "\n",
    "# Query the API\n",
    "response = requests.get(url = api_url)\n",
    "\n",
    "# Check if the request was successful\n",
    "if response.status_code == 200:\n",
    "    # convert response to json format\n",
    "    flood_data = response.json()\n",
    "    # Extract relevant data\n",
    "    flood_areas = flood_data.get('items', [])\n",
    "\n",
    "    # Prepare the data\n",
    "    flood_areas_list = []\n",
    "    for area in flood_areas:\n",
    "        flood_areas_list.append({\n",
    "            'county': area.get('county'),\n",
    "            'description': area.get('description'),\n",
    "            'eaAreaName': area.get('eaAreaName'),\n",
    "            'lat': area.get('lat'),\n",
    "            'long': area.get('long'),\n",
    "            'riverOrSea': area.get('riverOrSea'),\n",
    "            'polygon': area.get('polygon')\n",
    "        })\n",
    "\n",
    "    # Convert to DataFrame\n",
    "    flood_areas_df = pd.DataFrame(flood_areas_list)\n",
    "else:\n",
    "    print(f\"Failed to retrieve data: {response.status_code}\")"
   ]
  },
  {
   "cell_type": "code",
   "execution_count": 63,
   "metadata": {},
   "outputs": [
    {
     "data": {
      "text/html": [
       "<div>\n",
       "<style scoped>\n",
       "    .dataframe tbody tr th:only-of-type {\n",
       "        vertical-align: middle;\n",
       "    }\n",
       "\n",
       "    .dataframe tbody tr th {\n",
       "        vertical-align: top;\n",
       "    }\n",
       "\n",
       "    .dataframe thead th {\n",
       "        text-align: right;\n",
       "    }\n",
       "</style>\n",
       "<table border=\"1\" class=\"dataframe\">\n",
       "  <thead>\n",
       "    <tr style=\"text-align: right;\">\n",
       "      <th></th>\n",
       "      <th>county</th>\n",
       "      <th>description</th>\n",
       "      <th>eaAreaName</th>\n",
       "      <th>lat</th>\n",
       "      <th>long</th>\n",
       "      <th>riverOrSea</th>\n",
       "      <th>polygon</th>\n",
       "    </tr>\n",
       "  </thead>\n",
       "  <tbody>\n",
       "    <tr>\n",
       "      <th>0</th>\n",
       "      <td>Lincolnshire</td>\n",
       "      <td>Areas near the River Witham, Sincil Dyke, Grea...</td>\n",
       "      <td>Lincs and Northants</td>\n",
       "      <td>53.22002</td>\n",
       "      <td>-0.55462</td>\n",
       "      <td>River Witham, Sincil Dyke, Great Gowts Drain</td>\n",
       "      <td>http://environment.data.gov.uk/flood-monitorin...</td>\n",
       "    </tr>\n",
       "    <tr>\n",
       "      <th>1</th>\n",
       "      <td>Lincolnshire</td>\n",
       "      <td>Witham, Sincil Dyke, Great Gowts Drain, Fossdy...</td>\n",
       "      <td>Lincs and Northants</td>\n",
       "      <td>53.21764</td>\n",
       "      <td>-0.55269</td>\n",
       "      <td>River Witham, Sincil Dyke, Great Gowts Drain, Fos</td>\n",
       "      <td>http://environment.data.gov.uk/flood-monitorin...</td>\n",
       "    </tr>\n",
       "    <tr>\n",
       "      <th>2</th>\n",
       "      <td>Cumberland</td>\n",
       "      <td>Properties affected by surface water flooding ...</td>\n",
       "      <td>Cumbria and Lancashire</td>\n",
       "      <td>54.60153</td>\n",
       "      <td>-3.13183</td>\n",
       "      <td>River Greta</td>\n",
       "      <td>http://environment.data.gov.uk/flood-monitorin...</td>\n",
       "    </tr>\n",
       "    <tr>\n",
       "      <th>3</th>\n",
       "      <td>Cumberland, Westmorland and Furness</td>\n",
       "      <td>River Derwent from Keswick to Bassenthwaite. T...</td>\n",
       "      <td>Cumbria and Lancashire</td>\n",
       "      <td>54.61737</td>\n",
       "      <td>-3.14762</td>\n",
       "      <td>River Greta, St Johns Beck, Glendermackin</td>\n",
       "      <td>http://environment.data.gov.uk/flood-monitorin...</td>\n",
       "    </tr>\n",
       "    <tr>\n",
       "      <th>4</th>\n",
       "      <td>Lancashire</td>\n",
       "      <td>Properties on Church Street, Keirby Walk, Bank...</td>\n",
       "      <td>Cumbria and Lancashire</td>\n",
       "      <td>53.79078</td>\n",
       "      <td>-2.24018</td>\n",
       "      <td>River Brun</td>\n",
       "      <td>http://environment.data.gov.uk/flood-monitorin...</td>\n",
       "    </tr>\n",
       "  </tbody>\n",
       "</table>\n",
       "</div>"
      ],
      "text/plain": [
       "                                county  \\\n",
       "0                         Lincolnshire   \n",
       "1                         Lincolnshire   \n",
       "2                           Cumberland   \n",
       "3  Cumberland, Westmorland and Furness   \n",
       "4                           Lancashire   \n",
       "\n",
       "                                         description              eaAreaName  \\\n",
       "0  Areas near the River Witham, Sincil Dyke, Grea...     Lincs and Northants   \n",
       "1  Witham, Sincil Dyke, Great Gowts Drain, Fossdy...     Lincs and Northants   \n",
       "2  Properties affected by surface water flooding ...  Cumbria and Lancashire   \n",
       "3  River Derwent from Keswick to Bassenthwaite. T...  Cumbria and Lancashire   \n",
       "4  Properties on Church Street, Keirby Walk, Bank...  Cumbria and Lancashire   \n",
       "\n",
       "        lat     long                                         riverOrSea  \\\n",
       "0  53.22002 -0.55462       River Witham, Sincil Dyke, Great Gowts Drain   \n",
       "1  53.21764 -0.55269  River Witham, Sincil Dyke, Great Gowts Drain, Fos   \n",
       "2  54.60153 -3.13183                                        River Greta   \n",
       "3  54.61737 -3.14762          River Greta, St Johns Beck, Glendermackin   \n",
       "4  53.79078 -2.24018                                         River Brun   \n",
       "\n",
       "                                             polygon  \n",
       "0  http://environment.data.gov.uk/flood-monitorin...  \n",
       "1  http://environment.data.gov.uk/flood-monitorin...  \n",
       "2  http://environment.data.gov.uk/flood-monitorin...  \n",
       "3  http://environment.data.gov.uk/flood-monitorin...  \n",
       "4  http://environment.data.gov.uk/flood-monitorin...  "
      ]
     },
     "execution_count": 63,
     "metadata": {},
     "output_type": "execute_result"
    }
   ],
   "source": [
    "# Display the DataFrame\n",
    "flood_areas_df.head()"
   ]
  },
  {
   "cell_type": "code",
   "execution_count": 64,
   "metadata": {},
   "outputs": [
    {
     "name": "stdout",
     "output_type": "stream",
     "text": [
      "<class 'pandas.core.frame.DataFrame'>\n",
      "RangeIndex: 4182 entries, 0 to 4181\n",
      "Data columns (total 7 columns):\n",
      " #   Column       Non-Null Count  Dtype  \n",
      "---  ------       --------------  -----  \n",
      " 0   county       4182 non-null   object \n",
      " 1   description  4182 non-null   object \n",
      " 2   eaAreaName   4182 non-null   object \n",
      " 3   lat          4182 non-null   float64\n",
      " 4   long         4182 non-null   float64\n",
      " 5   riverOrSea   4130 non-null   object \n",
      " 6   polygon      4182 non-null   object \n",
      "dtypes: float64(2), object(5)\n",
      "memory usage: 228.8+ KB\n"
     ]
    }
   ],
   "source": [
    "# Display information about the dataframe\n",
    "flood_areas_df.info(verbose=True, show_counts=True)"
   ]
  },
  {
   "cell_type": "code",
   "execution_count": 65,
   "metadata": {},
   "outputs": [
    {
     "data": {
      "text/plain": [
       "(4182, 7)"
      ]
     },
     "execution_count": 65,
     "metadata": {},
     "output_type": "execute_result"
    }
   ],
   "source": [
    "# Display dataframe dimension\n",
    "flood_areas_df.shape"
   ]
  },
  {
   "cell_type": "code",
   "execution_count": 67,
   "metadata": {},
   "outputs": [],
   "source": [
    "# new column names\n",
    "column_names = ['county', 'text_description', 'area_name', 'lat', 'lon', 'water_source', 'polygon']\n",
    "# change column names\n",
    "flood_areas_df.columns = column_names"
   ]
  },
  {
   "cell_type": "code",
   "execution_count": 68,
   "metadata": {},
   "outputs": [
    {
     "data": {
      "text/html": [
       "<div>\n",
       "<style scoped>\n",
       "    .dataframe tbody tr th:only-of-type {\n",
       "        vertical-align: middle;\n",
       "    }\n",
       "\n",
       "    .dataframe tbody tr th {\n",
       "        vertical-align: top;\n",
       "    }\n",
       "\n",
       "    .dataframe thead th {\n",
       "        text-align: right;\n",
       "    }\n",
       "</style>\n",
       "<table border=\"1\" class=\"dataframe\">\n",
       "  <thead>\n",
       "    <tr style=\"text-align: right;\">\n",
       "      <th></th>\n",
       "      <th>county</th>\n",
       "      <th>text_description</th>\n",
       "      <th>area_name</th>\n",
       "      <th>lat</th>\n",
       "      <th>lon</th>\n",
       "      <th>water_source</th>\n",
       "      <th>polygon</th>\n",
       "    </tr>\n",
       "  </thead>\n",
       "  <tbody>\n",
       "    <tr>\n",
       "      <th>28</th>\n",
       "      <td>Manchester</td>\n",
       "      <td>Land adjacent to the River Mersey at West Dids...</td>\n",
       "      <td>Gtr Mancs Mersey and Ches</td>\n",
       "      <td>53.41100</td>\n",
       "      <td>-2.24160</td>\n",
       "      <td>River Mersey</td>\n",
       "      <td>http://environment.data.gov.uk/flood-monitorin...</td>\n",
       "    </tr>\n",
       "    <tr>\n",
       "      <th>29</th>\n",
       "      <td>Cheshire East, Manchester, Salford, Stockport,...</td>\n",
       "      <td>The Middle River Mersey catchment includes Mic...</td>\n",
       "      <td>Gtr Mancs Mersey and Ches</td>\n",
       "      <td>53.43479</td>\n",
       "      <td>-2.31497</td>\n",
       "      <td>River Mersey</td>\n",
       "      <td>http://environment.data.gov.uk/flood-monitorin...</td>\n",
       "    </tr>\n",
       "    <tr>\n",
       "      <th>51</th>\n",
       "      <td>Manchester</td>\n",
       "      <td>Areas at risk include land and properties arou...</td>\n",
       "      <td>Gtr Mancs Mersey and Ches</td>\n",
       "      <td>53.51869</td>\n",
       "      <td>-2.22357</td>\n",
       "      <td>River Irk</td>\n",
       "      <td>http://environment.data.gov.uk/flood-monitorin...</td>\n",
       "    </tr>\n",
       "    <tr>\n",
       "      <th>52</th>\n",
       "      <td>Bolton, Bury, Manchester, Oldham, Rochdale, Sa...</td>\n",
       "      <td>The Lower River Irwell catchment also includes...</td>\n",
       "      <td>Gtr Mancs Mersey and Ches</td>\n",
       "      <td>53.48905</td>\n",
       "      <td>-2.28848</td>\n",
       "      <td>River Irwell</td>\n",
       "      <td>http://environment.data.gov.uk/flood-monitorin...</td>\n",
       "    </tr>\n",
       "    <tr>\n",
       "      <th>64</th>\n",
       "      <td>Manchester, Stockport</td>\n",
       "      <td>Areas in the locality of Mauldeth Road, includ...</td>\n",
       "      <td>Gtr Mancs Mersey and Ches</td>\n",
       "      <td>53.43947</td>\n",
       "      <td>-2.23322</td>\n",
       "      <td>Cringle Brook</td>\n",
       "      <td>http://environment.data.gov.uk/flood-monitorin...</td>\n",
       "    </tr>\n",
       "    <tr>\n",
       "      <th>...</th>\n",
       "      <td>...</td>\n",
       "      <td>...</td>\n",
       "      <td>...</td>\n",
       "      <td>...</td>\n",
       "      <td>...</td>\n",
       "      <td>...</td>\n",
       "      <td>...</td>\n",
       "    </tr>\n",
       "    <tr>\n",
       "      <th>4099</th>\n",
       "      <td>Manchester</td>\n",
       "      <td>Properties on Newbrook Avenue, Riverside Avenu...</td>\n",
       "      <td>Gtr Mancs Mersey and Ches</td>\n",
       "      <td>53.41853</td>\n",
       "      <td>-2.26030</td>\n",
       "      <td>River Mersey</td>\n",
       "      <td>http://environment.data.gov.uk/flood-monitorin...</td>\n",
       "    </tr>\n",
       "    <tr>\n",
       "      <th>4103</th>\n",
       "      <td>Manchester</td>\n",
       "      <td>Properties in Northenden from Ford Lane to Ken...</td>\n",
       "      <td>Gtr Mancs Mersey and Ches</td>\n",
       "      <td>53.41040</td>\n",
       "      <td>-2.25779</td>\n",
       "      <td>River Mersey</td>\n",
       "      <td>http://environment.data.gov.uk/flood-monitorin...</td>\n",
       "    </tr>\n",
       "    <tr>\n",
       "      <th>4125</th>\n",
       "      <td>Wigan</td>\n",
       "      <td>Properties on Greenfield Road, Hillside Avenue...</td>\n",
       "      <td>Gtr Mancs Mersey and Ches</td>\n",
       "      <td>53.53073</td>\n",
       "      <td>-2.47944</td>\n",
       "      <td>Chanters Brook</td>\n",
       "      <td>http://environment.data.gov.uk/flood-monitorin...</td>\n",
       "    </tr>\n",
       "    <tr>\n",
       "      <th>4152</th>\n",
       "      <td>Cheshire West and Chester</td>\n",
       "      <td>Properties in Old Mill Place and Cookes Court....</td>\n",
       "      <td>Gtr Mancs Mersey and Ches</td>\n",
       "      <td>53.11992</td>\n",
       "      <td>-2.76902</td>\n",
       "      <td>Mill Brook, Markham Brook</td>\n",
       "      <td>http://environment.data.gov.uk/flood-monitorin...</td>\n",
       "    </tr>\n",
       "    <tr>\n",
       "      <th>4153</th>\n",
       "      <td>Bury</td>\n",
       "      <td>Properties between Hardy's Gate Bridge and Bor...</td>\n",
       "      <td>Gtr Mancs Mersey and Ches</td>\n",
       "      <td>53.57128</td>\n",
       "      <td>-2.30181</td>\n",
       "      <td>River Irwell</td>\n",
       "      <td>http://environment.data.gov.uk/flood-monitorin...</td>\n",
       "    </tr>\n",
       "  </tbody>\n",
       "</table>\n",
       "<p>213 rows × 7 columns</p>\n",
       "</div>"
      ],
      "text/plain": [
       "                                                 county  \\\n",
       "28                                           Manchester   \n",
       "29    Cheshire East, Manchester, Salford, Stockport,...   \n",
       "51                                           Manchester   \n",
       "52    Bolton, Bury, Manchester, Oldham, Rochdale, Sa...   \n",
       "64                                Manchester, Stockport   \n",
       "...                                                 ...   \n",
       "4099                                         Manchester   \n",
       "4103                                         Manchester   \n",
       "4125                                              Wigan   \n",
       "4152                          Cheshire West and Chester   \n",
       "4153                                               Bury   \n",
       "\n",
       "                                       text_description  \\\n",
       "28    Land adjacent to the River Mersey at West Dids...   \n",
       "29    The Middle River Mersey catchment includes Mic...   \n",
       "51    Areas at risk include land and properties arou...   \n",
       "52    The Lower River Irwell catchment also includes...   \n",
       "64    Areas in the locality of Mauldeth Road, includ...   \n",
       "...                                                 ...   \n",
       "4099  Properties on Newbrook Avenue, Riverside Avenu...   \n",
       "4103  Properties in Northenden from Ford Lane to Ken...   \n",
       "4125  Properties on Greenfield Road, Hillside Avenue...   \n",
       "4152  Properties in Old Mill Place and Cookes Court....   \n",
       "4153  Properties between Hardy's Gate Bridge and Bor...   \n",
       "\n",
       "                      area_name       lat      lon               water_source  \\\n",
       "28    Gtr Mancs Mersey and Ches  53.41100 -2.24160               River Mersey   \n",
       "29    Gtr Mancs Mersey and Ches  53.43479 -2.31497               River Mersey   \n",
       "51    Gtr Mancs Mersey and Ches  53.51869 -2.22357                  River Irk   \n",
       "52    Gtr Mancs Mersey and Ches  53.48905 -2.28848               River Irwell   \n",
       "64    Gtr Mancs Mersey and Ches  53.43947 -2.23322              Cringle Brook   \n",
       "...                         ...       ...      ...                        ...   \n",
       "4099  Gtr Mancs Mersey and Ches  53.41853 -2.26030               River Mersey   \n",
       "4103  Gtr Mancs Mersey and Ches  53.41040 -2.25779               River Mersey   \n",
       "4125  Gtr Mancs Mersey and Ches  53.53073 -2.47944             Chanters Brook   \n",
       "4152  Gtr Mancs Mersey and Ches  53.11992 -2.76902  Mill Brook, Markham Brook   \n",
       "4153  Gtr Mancs Mersey and Ches  53.57128 -2.30181               River Irwell   \n",
       "\n",
       "                                                polygon  \n",
       "28    http://environment.data.gov.uk/flood-monitorin...  \n",
       "29    http://environment.data.gov.uk/flood-monitorin...  \n",
       "51    http://environment.data.gov.uk/flood-monitorin...  \n",
       "52    http://environment.data.gov.uk/flood-monitorin...  \n",
       "64    http://environment.data.gov.uk/flood-monitorin...  \n",
       "...                                                 ...  \n",
       "4099  http://environment.data.gov.uk/flood-monitorin...  \n",
       "4103  http://environment.data.gov.uk/flood-monitorin...  \n",
       "4125  http://environment.data.gov.uk/flood-monitorin...  \n",
       "4152  http://environment.data.gov.uk/flood-monitorin...  \n",
       "4153  http://environment.data.gov.uk/flood-monitorin...  \n",
       "\n",
       "[213 rows x 7 columns]"
      ]
     },
     "execution_count": 68,
     "metadata": {},
     "output_type": "execute_result"
    }
   ],
   "source": [
    "# Filter for areas near Merseyside\n",
    "flood_areas_df = flood_areas_df[(flood_areas_df['area_name'].str.contains(\n",
    "    'mersey', case=False, na=False))]"
   ]
  },
  {
   "cell_type": "code",
   "execution_count": 77,
   "metadata": {},
   "outputs": [],
   "source": [
    "# Function to fetch and parse GeoJSON from the polygon URI\n",
    "def fetch_geojson(uri):\n",
    "    response = requests.get(uri)\n",
    "    if response.status_code == 200:\n",
    "        geojson = response.json()\n",
    "        # Access the 'geometry' from the first feature\n",
    "        if 'features' in geojson and len(geojson['features']) > 0:\n",
    "            geometry = geojson['features'][0]['geometry']\n",
    "            return shape(geometry)  # Convert GeoJSON to Shapely geometry\n",
    "        else:\n",
    "            print(f\"No features found in GeoJSON data from {uri}\")\n",
    "            return None\n",
    "    else:\n",
    "        print(f\"Failed to retrieve GeoJSON data from {uri}\")\n",
    "        return None\n",
    "\n",
    "\n",
    "# Apply the function to the 'polygon' column\n",
    "flood_areas_df['geometry'] = flood_areas_df['polygon'].apply(\n",
    "    fetch_geojson)"
   ]
  },
  {
   "cell_type": "code",
   "execution_count": 78,
   "metadata": {},
   "outputs": [
    {
     "name": "stdout",
     "output_type": "stream",
     "text": [
      "                                county  \\\n",
      "0                         Lincolnshire   \n",
      "1                         Lincolnshire   \n",
      "2                           Cumberland   \n",
      "3  Cumberland, Westmorland and Furness   \n",
      "4                           Lancashire   \n",
      "\n",
      "                                    text_description               area_name  \\\n",
      "0  Areas near the River Witham, Sincil Dyke, Grea...     Lincs and Northants   \n",
      "1  Witham, Sincil Dyke, Great Gowts Drain, Fossdy...     Lincs and Northants   \n",
      "2  Properties affected by surface water flooding ...  Cumbria and Lancashire   \n",
      "3  River Derwent from Keswick to Bassenthwaite. T...  Cumbria and Lancashire   \n",
      "4  Properties on Church Street, Keirby Walk, Bank...  Cumbria and Lancashire   \n",
      "\n",
      "        lat      lon                                       water_source  \\\n",
      "0  53.22002 -0.55462       River Witham, Sincil Dyke, Great Gowts Drain   \n",
      "1  53.21764 -0.55269  River Witham, Sincil Dyke, Great Gowts Drain, Fos   \n",
      "2  54.60153 -3.13183                                        River Greta   \n",
      "3  54.61737 -3.14762          River Greta, St Johns Beck, Glendermackin   \n",
      "4  53.79078 -2.24018                                         River Brun   \n",
      "\n",
      "                                             polygon  \\\n",
      "0  http://environment.data.gov.uk/flood-monitorin...   \n",
      "1  http://environment.data.gov.uk/flood-monitorin...   \n",
      "2  http://environment.data.gov.uk/flood-monitorin...   \n",
      "3  http://environment.data.gov.uk/flood-monitorin...   \n",
      "4  http://environment.data.gov.uk/flood-monitorin...   \n",
      "\n",
      "                                            geometry  \n",
      "0  MULTIPOLYGON (((-0.55944 53.23429, -0.55981 53...  \n",
      "1  POLYGON ((-0.55366 53.20169, -0.55355 53.20175...  \n",
      "2  POLYGON ((-3.12949 54.60194, -3.12935 54.60206...  \n",
      "3  MULTIPOLYGON (((-3.17167 54.68761, -3.17333 54...  \n",
      "4  POLYGON ((-2.23965 53.79297, -2.24007 53.79304...  \n"
     ]
    }
   ],
   "source": [
    "# Convert the DataFrame to a GeoDataFrame\n",
    "flood_areas_gdf = gpd.GeoDataFrame(flood_areas_df, geometry='geometry')\n",
    "\n",
    "# Display the cleaned GeoDataFrame\n",
    "print(flood_areas_gdf.head())"
   ]
  },
  {
   "cell_type": "code",
   "execution_count": 1,
   "metadata": {},
   "outputs": [
    {
     "ename": "NameError",
     "evalue": "name 'flood_areas_gdf' is not defined",
     "output_type": "error",
     "traceback": [
      "\u001b[0;31m---------------------------------------------------------------------------\u001b[0m",
      "\u001b[0;31mNameError\u001b[0m                                 Traceback (most recent call last)",
      "Cell \u001b[0;32mIn[1], line 1\u001b[0m\n\u001b[0;32m----> 1\u001b[0m \u001b[43mflood_areas_gdf\u001b[49m\u001b[38;5;241m.\u001b[39mshape\n",
      "\u001b[0;31mNameError\u001b[0m: name 'flood_areas_gdf' is not defined"
     ]
    }
   ],
   "source": [
    "flood_areas_gdf.shape"
   ]
  },
  {
   "cell_type": "markdown",
   "metadata": {},
   "source": [
    "## Export"
   ]
  },
  {
   "cell_type": "code",
   "execution_count": 79,
   "metadata": {},
   "outputs": [
    {
     "name": "stdout",
     "output_type": "stream",
     "text": [
      "Flood areas data saved to 'flood_areas_data.csv'\n"
     ]
    }
   ],
   "source": [
    "# Save the DataFrame to a CSV file\n",
    "flood_areas_df.to_csv('clean_data/flood_areas_data.csv', index=False)\n",
    "print(\"Flood areas data saved to 'flood_areas_data.csv'\")"
   ]
  },
  {
   "cell_type": "code",
   "execution_count": 82,
   "metadata": {},
   "outputs": [],
   "source": [
    "# Save the cleaned data to a new file (optional)\n",
    "flood_areas_gdf.to_file('clean_data/flood_areas_data/cleaned_flood_areas_data.shp')"
   ]
  }
 ],
 "metadata": {
  "kernelspec": {
   "display_name": "venv",
   "language": "python",
   "name": "python3"
  },
  "language_info": {
   "codemirror_mode": {
    "name": "ipython",
    "version": 3
   },
   "file_extension": ".py",
   "mimetype": "text/x-python",
   "name": "python",
   "nbconvert_exporter": "python",
   "pygments_lexer": "ipython3",
   "version": "3.12.0"
  }
 },
 "nbformat": 4,
 "nbformat_minor": 2
}
