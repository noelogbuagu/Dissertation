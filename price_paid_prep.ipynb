{
 "cells": [
  {
   "cell_type": "markdown",
   "metadata": {},
   "source": [
    "# Urban and Spatial Data Analytics: Property Price Prediction\n"
   ]
  },
  {
   "cell_type": "markdown",
   "metadata": {},
   "source": [
    "## Importing Libraries\n"
   ]
  },
  {
   "cell_type": "code",
   "execution_count": 33,
   "metadata": {},
   "outputs": [],
   "source": [
    "# import libraries\n",
    "import pandas as pd\n",
    "import plotly.express as px\n",
    "import seaborn as sns\n",
    "import matplotlib.pyplot as plt\n",
    "import numpy as np\n",
    "# import pgeocode\n",
    "# import missingno as msno\n",
    "import datetime as dt\n",
    "import warnings\n",
    "warnings.filterwarnings('ignore')"
   ]
  },
  {
   "cell_type": "markdown",
   "metadata": {},
   "source": [
    "## Prepare Data\n"
   ]
  },
  {
   "cell_type": "markdown",
   "metadata": {},
   "source": [
    "### Import\n"
   ]
  },
  {
   "cell_type": "code",
   "execution_count": 2,
   "metadata": {},
   "outputs": [
    {
     "data": {
      "text/html": [
       "<div>\n",
       "<style scoped>\n",
       "    .dataframe tbody tr th:only-of-type {\n",
       "        vertical-align: middle;\n",
       "    }\n",
       "\n",
       "    .dataframe tbody tr th {\n",
       "        vertical-align: top;\n",
       "    }\n",
       "\n",
       "    .dataframe thead th {\n",
       "        text-align: right;\n",
       "    }\n",
       "</style>\n",
       "<table border=\"1\" class=\"dataframe\">\n",
       "  <thead>\n",
       "    <tr style=\"text-align: right;\">\n",
       "      <th></th>\n",
       "      <th>{109BBF80-1E51-4910-8E2C-B124E1117A7A}</th>\n",
       "      <th>34950</th>\n",
       "      <th>1995-06-09 00:00</th>\n",
       "      <th>BA3 3AH</th>\n",
       "      <th>F</th>\n",
       "      <th>N</th>\n",
       "      <th>L</th>\n",
       "      <th>COOMBEND HOUSE</th>\n",
       "      <th>7</th>\n",
       "      <th>COOMBEND</th>\n",
       "      <th>RADSTOCK</th>\n",
       "      <th>RADSTOCK.1</th>\n",
       "      <th>WANSDYKE</th>\n",
       "      <th>AVON</th>\n",
       "      <th>A</th>\n",
       "      <th>A.1</th>\n",
       "    </tr>\n",
       "  </thead>\n",
       "  <tbody>\n",
       "    <tr>\n",
       "      <th>0</th>\n",
       "      <td>{D5233D67-2975-426B-B98D-B124E39331D9}</td>\n",
       "      <td>133000</td>\n",
       "      <td>1995-06-19 00:00</td>\n",
       "      <td>SW18 5AG</td>\n",
       "      <td>T</td>\n",
       "      <td>N</td>\n",
       "      <td>F</td>\n",
       "      <td>142</td>\n",
       "      <td>NaN</td>\n",
       "      <td>ASTONVILLE STREET</td>\n",
       "      <td>LONDON</td>\n",
       "      <td>LONDON</td>\n",
       "      <td>WANDSWORTH</td>\n",
       "      <td>GREATER LONDON</td>\n",
       "      <td>A</td>\n",
       "      <td>A</td>\n",
       "    </tr>\n",
       "    <tr>\n",
       "      <th>1</th>\n",
       "      <td>{718BD35C-25E1-431C-8AF7-B124E63ED4E1}</td>\n",
       "      <td>83000</td>\n",
       "      <td>1995-08-21 00:00</td>\n",
       "      <td>IP11 7PU</td>\n",
       "      <td>D</td>\n",
       "      <td>N</td>\n",
       "      <td>F</td>\n",
       "      <td>3</td>\n",
       "      <td>NaN</td>\n",
       "      <td>GARFIELD ROAD</td>\n",
       "      <td>FELIXSTOWE</td>\n",
       "      <td>FELIXSTOWE</td>\n",
       "      <td>SUFFOLK COASTAL</td>\n",
       "      <td>SUFFOLK</td>\n",
       "      <td>A</td>\n",
       "      <td>A</td>\n",
       "    </tr>\n",
       "    <tr>\n",
       "      <th>2</th>\n",
       "      <td>{E127F626-6247-4D95-A392-B124F4C0A558}</td>\n",
       "      <td>59000</td>\n",
       "      <td>1995-07-27 00:00</td>\n",
       "      <td>PE21 0SF</td>\n",
       "      <td>D</td>\n",
       "      <td>Y</td>\n",
       "      <td>F</td>\n",
       "      <td>BEAUCADRE</td>\n",
       "      <td>NaN</td>\n",
       "      <td>GAYSFIELD ROAD</td>\n",
       "      <td>FISHTOFT</td>\n",
       "      <td>BOSTON</td>\n",
       "      <td>BOSTON</td>\n",
       "      <td>LINCOLNSHIRE</td>\n",
       "      <td>A</td>\n",
       "      <td>A</td>\n",
       "    </tr>\n",
       "    <tr>\n",
       "      <th>3</th>\n",
       "      <td>{B10762A0-2C9C-4C82-A885-B1250B55FFF9}</td>\n",
       "      <td>51000</td>\n",
       "      <td>1995-02-28 00:00</td>\n",
       "      <td>ME7 4DF</td>\n",
       "      <td>T</td>\n",
       "      <td>N</td>\n",
       "      <td>F</td>\n",
       "      <td>41</td>\n",
       "      <td>NaN</td>\n",
       "      <td>FRANKLIN ROAD</td>\n",
       "      <td>GILLINGHAM</td>\n",
       "      <td>GILLINGHAM</td>\n",
       "      <td>GILLINGHAM</td>\n",
       "      <td>KENT</td>\n",
       "      <td>A</td>\n",
       "      <td>A</td>\n",
       "    </tr>\n",
       "    <tr>\n",
       "      <th>4</th>\n",
       "      <td>{BBAB55E8-216F-4FFA-B9EC-B4AD71F833EB}</td>\n",
       "      <td>37000</td>\n",
       "      <td>1995-06-02 00:00</td>\n",
       "      <td>TN1 2ET</td>\n",
       "      <td>F</td>\n",
       "      <td>N</td>\n",
       "      <td>L</td>\n",
       "      <td>48</td>\n",
       "      <td>TOP FLOOR FLAT</td>\n",
       "      <td>UPPER GROSVENOR ROAD</td>\n",
       "      <td>TUNBRIDGE WELLS</td>\n",
       "      <td>TUNBRIDGE WELLS</td>\n",
       "      <td>TUNBRIDGE WELLS</td>\n",
       "      <td>KENT</td>\n",
       "      <td>A</td>\n",
       "      <td>A</td>\n",
       "    </tr>\n",
       "  </tbody>\n",
       "</table>\n",
       "</div>"
      ],
      "text/plain": [
       "   {109BBF80-1E51-4910-8E2C-B124E1117A7A}   34950  1995-06-09 00:00   BA3 3AH  \\\n",
       "0  {D5233D67-2975-426B-B98D-B124E39331D9}  133000  1995-06-19 00:00  SW18 5AG   \n",
       "1  {718BD35C-25E1-431C-8AF7-B124E63ED4E1}   83000  1995-08-21 00:00  IP11 7PU   \n",
       "2  {E127F626-6247-4D95-A392-B124F4C0A558}   59000  1995-07-27 00:00  PE21 0SF   \n",
       "3  {B10762A0-2C9C-4C82-A885-B1250B55FFF9}   51000  1995-02-28 00:00   ME7 4DF   \n",
       "4  {BBAB55E8-216F-4FFA-B9EC-B4AD71F833EB}   37000  1995-06-02 00:00   TN1 2ET   \n",
       "\n",
       "   F  N  L COOMBEND HOUSE               7              COOMBEND  \\\n",
       "0  T  N  F            142             NaN     ASTONVILLE STREET   \n",
       "1  D  N  F              3             NaN         GARFIELD ROAD   \n",
       "2  D  Y  F      BEAUCADRE             NaN        GAYSFIELD ROAD   \n",
       "3  T  N  F             41             NaN         FRANKLIN ROAD   \n",
       "4  F  N  L             48  TOP FLOOR FLAT  UPPER GROSVENOR ROAD   \n",
       "\n",
       "          RADSTOCK       RADSTOCK.1         WANSDYKE            AVON  A A.1  \n",
       "0           LONDON           LONDON       WANDSWORTH  GREATER LONDON  A   A  \n",
       "1       FELIXSTOWE       FELIXSTOWE  SUFFOLK COASTAL         SUFFOLK  A   A  \n",
       "2         FISHTOFT           BOSTON           BOSTON    LINCOLNSHIRE  A   A  \n",
       "3       GILLINGHAM       GILLINGHAM       GILLINGHAM            KENT  A   A  \n",
       "4  TUNBRIDGE WELLS  TUNBRIDGE WELLS  TUNBRIDGE WELLS            KENT  A   A  "
      ]
     },
     "execution_count": 2,
     "metadata": {},
     "output_type": "execute_result"
    }
   ],
   "source": [
    "# import the data\n",
    "house_data = pd.read_csv(\n",
    "    'raw_data/prices_paid.csv')\n",
    "# display the data set to check it has imported correctly\n",
    "house_data.head()"
   ]
  },
  {
   "cell_type": "code",
   "execution_count": 3,
   "metadata": {},
   "outputs": [],
   "source": [
    "# add column names to house_data\n",
    "column_names = ['transaction_id', 'price', 'transfer_date', 'postcode', 'property_type', 'is_old_or_new', 'property_tenure',\n",
    "                'house_number_or_name', 'unit_number', 'street', 'locality', 'town', 'district', 'county', 'ppd_transaction_category', 'record_status_monthly_file_only']\n",
    "house_data.columns = column_names"
   ]
  },
  {
   "cell_type": "code",
   "execution_count": 4,
   "metadata": {},
   "outputs": [
    {
     "name": "stdout",
     "output_type": "stream",
     "text": [
      "<class 'pandas.core.frame.DataFrame'>\n",
      "RangeIndex: 29212383 entries, 0 to 29212382\n",
      "Data columns (total 16 columns):\n",
      " #   Column                           Non-Null Count     Dtype \n",
      "---  ------                           --------------     ----- \n",
      " 0   transaction_id                   29212383 non-null  object\n",
      " 1   price                            29212383 non-null  int64 \n",
      " 2   transfer_date                    29212383 non-null  object\n",
      " 3   postcode                         29165098 non-null  object\n",
      " 4   property_type                    29212383 non-null  object\n",
      " 5   is_old_or_new                    29212383 non-null  object\n",
      " 6   property_tenure                  29212383 non-null  object\n",
      " 7   house_number_or_name             29208198 non-null  object\n",
      " 8   unit_number                      3463419 non-null   object\n",
      " 9   street                           28748147 non-null  object\n",
      " 10  locality                         18547494 non-null  object\n",
      " 11  town                             29212383 non-null  object\n",
      " 12  district                         29212383 non-null  object\n",
      " 13  county                           29212383 non-null  object\n",
      " 14  ppd_transaction_category         29212383 non-null  object\n",
      " 15  record_status_monthly_file_only  29212383 non-null  object\n",
      "dtypes: int64(1), object(15)\n",
      "memory usage: 3.5+ GB\n"
     ]
    }
   ],
   "source": [
    "# print information about house data\n",
    "house_data.info(verbose=True, show_counts=True)"
   ]
  },
  {
   "cell_type": "code",
   "execution_count": 5,
   "metadata": {},
   "outputs": [
    {
     "data": {
      "text/plain": [
       "(29212383, 16)"
      ]
     },
     "execution_count": 5,
     "metadata": {},
     "output_type": "execute_result"
    }
   ],
   "source": [
    "# get dimensions of the dataset\n",
    "house_data.shape"
   ]
  },
  {
   "cell_type": "code",
   "execution_count": 6,
   "metadata": {},
   "outputs": [
    {
     "data": {
      "text/plain": [
       "transaction_id                     0.000000\n",
       "price                              0.000000\n",
       "transfer_date                      0.000000\n",
       "postcode                           0.001619\n",
       "property_type                      0.000000\n",
       "is_old_or_new                      0.000000\n",
       "property_tenure                    0.000000\n",
       "house_number_or_name               0.000143\n",
       "unit_number                        0.881440\n",
       "street                             0.015892\n",
       "locality                           0.365081\n",
       "town                               0.000000\n",
       "district                           0.000000\n",
       "county                             0.000000\n",
       "ppd_transaction_category           0.000000\n",
       "record_status_monthly_file_only    0.000000\n",
       "dtype: float64"
      ]
     },
     "execution_count": 6,
     "metadata": {},
     "output_type": "execute_result"
    }
   ],
   "source": [
    "# check for columns that have null values for 50% of the entries\n",
    "house_data.isnull().sum()/len(house_data)"
   ]
  },
  {
   "cell_type": "code",
   "execution_count": 7,
   "metadata": {},
   "outputs": [],
   "source": [
    "# convert price to float type\n",
    "house_data['price'] = house_data['price'].astype(float)"
   ]
  },
  {
   "cell_type": "code",
   "execution_count": 8,
   "metadata": {},
   "outputs": [],
   "source": [
    "# convert transfer date to datetime\n",
    "house_data['transfer_date'] = pd.to_datetime(house_data['transfer_date'])\n",
    "# assert statement making sure of conversion to datetime\n",
    "assert house_data['transfer_date'].dtype == 'datetime64[ns]'"
   ]
  },
  {
   "cell_type": "code",
   "execution_count": 9,
   "metadata": {},
   "outputs": [],
   "source": [
    "# make a list of redundant columns\n",
    "redundant_columns = ['house_number_or_name', 'unit_number', 'locality',\n",
    "                    'street', 'record_status_monthly_file_only']\n",
    "# drop redundant columns\n",
    "house_data = house_data.drop(redundant_columns, axis=1)\n",
    "# Assert redundant columns have been dropped\n",
    "assert len(house_data.columns) != len(column_names)"
   ]
  },
  {
   "cell_type": "code",
   "execution_count": 10,
   "metadata": {},
   "outputs": [],
   "source": [
    "# Find duplicates\n",
    "duplicates = house_data.duplicated(subset='transaction_id', keep=False)\n",
    "# Drop complete duplicates from house_data\n",
    "unique_house_data = house_data.drop_duplicates()\n",
    "duplicated_sales = unique_house_data[duplicates == True]\n",
    "# Assert duplicates are processed\n",
    "assert duplicated_sales.shape[0] == 0"
   ]
  },
  {
   "cell_type": "code",
   "execution_count": 11,
   "metadata": {},
   "outputs": [
    {
     "data": {
      "text/plain": [
       "['Terraced', 'Detached', 'Flats/Maisonettes', 'Semi-Detached', 'Other']\n",
       "Categories (5, object): ['Detached', 'Flats/Maisonettes', 'Other', 'Semi-Detached', 'Terraced']"
      ]
     },
     "execution_count": 11,
     "metadata": {},
     "output_type": "execute_result"
    }
   ],
   "source": [
    "# print unique values in columns\n",
    "unique_house_data['property_type'].unique()\n",
    "# Create mappings and replace\n",
    "property_type_mapping = {'T': 'Terraced', 'D': 'Detached', 'F': 'Flats/Maisonettes',\n",
    "                        'S': 'Semi-Detached', 'O': 'Other'}\n",
    "# replace old values and change data type to categorical\n",
    "unique_house_data['property_type'] = unique_house_data['property_type'].replace(\n",
    "    property_type_mapping).astype('category')\n",
    "# print new unique values in columns\n",
    "unique_house_data['property_type'].unique()"
   ]
  },
  {
   "cell_type": "code",
   "execution_count": 12,
   "metadata": {},
   "outputs": [
    {
     "data": {
      "text/plain": [
       "['Old', 'New']\n",
       "Categories (2, object): ['New', 'Old']"
      ]
     },
     "execution_count": 12,
     "metadata": {},
     "output_type": "execute_result"
    }
   ],
   "source": [
    "# print unique values in columns\n",
    "unique_house_data['is_old_or_new'].unique()\n",
    "# create mapping tp replace\n",
    "old_or_new_mapping = {'N':'Old', 'Y':'New'}\n",
    "unique_house_data['is_old_or_new'] = unique_house_data['is_old_or_new'].replace(\n",
    "    old_or_new_mapping).astype('category')\n",
    "# print new unique values in columns\n",
    "unique_house_data['is_old_or_new'].unique()"
   ]
  },
  {
   "cell_type": "code",
   "execution_count": 13,
   "metadata": {},
   "outputs": [
    {
     "data": {
      "text/plain": [
       "['Freehold', 'Leasehold']\n",
       "Categories (2, object): ['Freehold', 'Leasehold']"
      ]
     },
     "execution_count": 13,
     "metadata": {},
     "output_type": "execute_result"
    }
   ],
   "source": [
    "# print unique values in columns\n",
    "unique_house_data['property_tenure'].unique()\n",
    "# Remove rows with 'U' in property_tenure\n",
    "unique_house_data = unique_house_data[unique_house_data['property_tenure'] != 'U']\n",
    "# create mapping tp replace\n",
    "property_tenure_mapping = {'F': 'Freehold', 'L': 'Leasehold'}\n",
    "unique_house_data['property_tenure'] = unique_house_data['property_tenure'].replace(\n",
    "    property_tenure_mapping).astype('category')\n",
    "unique_house_data['property_tenure'].unique()"
   ]
  },
  {
   "cell_type": "code",
   "execution_count": 14,
   "metadata": {},
   "outputs": [],
   "source": [
    "# change ppd_transaction_category to category data type\n",
    "unique_house_data['ppd_transaction_category'] = unique_house_data['ppd_transaction_category'].astype(\n",
    "    'category')"
   ]
  },
  {
   "cell_type": "code",
   "execution_count": 15,
   "metadata": {},
   "outputs": [],
   "source": [
    "# filter data for freehold transactions in merseyside from 2013 to 2023\n",
    "merseyside_house_data = unique_house_data[(unique_house_data['county'] == 'MERSEYSIDE') & (\n",
    "    unique_house_data['transfer_date'].dt.year >= 2013) & (unique_house_data['transfer_date'].dt.year <= 2023)].copy()"
   ]
  },
  {
   "cell_type": "code",
   "execution_count": 17,
   "metadata": {},
   "outputs": [
    {
     "data": {
      "text/html": [
       "<div>\n",
       "<style scoped>\n",
       "    .dataframe tbody tr th:only-of-type {\n",
       "        vertical-align: middle;\n",
       "    }\n",
       "\n",
       "    .dataframe tbody tr th {\n",
       "        vertical-align: top;\n",
       "    }\n",
       "\n",
       "    .dataframe thead th {\n",
       "        text-align: right;\n",
       "    }\n",
       "</style>\n",
       "<table border=\"1\" class=\"dataframe\">\n",
       "  <thead>\n",
       "    <tr style=\"text-align: right;\">\n",
       "      <th></th>\n",
       "      <th>transaction_id</th>\n",
       "      <th>price</th>\n",
       "      <th>transfer_date</th>\n",
       "      <th>postcode</th>\n",
       "      <th>property_type</th>\n",
       "      <th>is_old_or_new</th>\n",
       "      <th>property_tenure</th>\n",
       "      <th>town</th>\n",
       "      <th>district</th>\n",
       "      <th>county</th>\n",
       "      <th>ppd_transaction_category</th>\n",
       "    </tr>\n",
       "  </thead>\n",
       "  <tbody>\n",
       "    <tr>\n",
       "      <th>18251630</th>\n",
       "      <td>{CD1FD346-02E2-40B9-AD20-AF02A78999D1}</td>\n",
       "      <td>113000.0</td>\n",
       "      <td>2013-01-02</td>\n",
       "      <td>L31 2HS</td>\n",
       "      <td>Semi-Detached</td>\n",
       "      <td>Old</td>\n",
       "      <td>Freehold</td>\n",
       "      <td>LIVERPOOL</td>\n",
       "      <td>SEFTON</td>\n",
       "      <td>MERSEYSIDE</td>\n",
       "      <td>A</td>\n",
       "    </tr>\n",
       "    <tr>\n",
       "      <th>18351985</th>\n",
       "      <td>{EF89E3A8-2BD1-4347-8B9B-F2CEEB2E62DC}</td>\n",
       "      <td>75000.0</td>\n",
       "      <td>2013-01-02</td>\n",
       "      <td>CH43 5RF</td>\n",
       "      <td>Flats/Maisonettes</td>\n",
       "      <td>Old</td>\n",
       "      <td>Leasehold</td>\n",
       "      <td>PRENTON</td>\n",
       "      <td>WIRRAL</td>\n",
       "      <td>MERSEYSIDE</td>\n",
       "      <td>A</td>\n",
       "    </tr>\n",
       "    <tr>\n",
       "      <th>18512520</th>\n",
       "      <td>{554C7E6D-FB60-4BF3-AEF0-F18802D4C110}</td>\n",
       "      <td>385000.0</td>\n",
       "      <td>2013-01-02</td>\n",
       "      <td>WA12 0JF</td>\n",
       "      <td>Detached</td>\n",
       "      <td>Old</td>\n",
       "      <td>Freehold</td>\n",
       "      <td>NEWTON-LE-WILLOWS</td>\n",
       "      <td>ST HELENS</td>\n",
       "      <td>MERSEYSIDE</td>\n",
       "      <td>A</td>\n",
       "    </tr>\n",
       "    <tr>\n",
       "      <th>18275462</th>\n",
       "      <td>{3A27DE8C-0D42-41CC-8501-7367F7E98993}</td>\n",
       "      <td>115000.0</td>\n",
       "      <td>2013-01-02</td>\n",
       "      <td>L13 5UP</td>\n",
       "      <td>Semi-Detached</td>\n",
       "      <td>Old</td>\n",
       "      <td>Freehold</td>\n",
       "      <td>LIVERPOOL</td>\n",
       "      <td>LIVERPOOL</td>\n",
       "      <td>MERSEYSIDE</td>\n",
       "      <td>A</td>\n",
       "    </tr>\n",
       "    <tr>\n",
       "      <th>18627036</th>\n",
       "      <td>{B5756393-923E-437D-B3BC-D21F5BAB0189}</td>\n",
       "      <td>110000.0</td>\n",
       "      <td>2013-01-02</td>\n",
       "      <td>L3 5XY</td>\n",
       "      <td>Flats/Maisonettes</td>\n",
       "      <td>Old</td>\n",
       "      <td>Leasehold</td>\n",
       "      <td>LIVERPOOL</td>\n",
       "      <td>LIVERPOOL</td>\n",
       "      <td>MERSEYSIDE</td>\n",
       "      <td>A</td>\n",
       "    </tr>\n",
       "  </tbody>\n",
       "</table>\n",
       "</div>"
      ],
      "text/plain": [
       "                                  transaction_id     price transfer_date  \\\n",
       "18251630  {CD1FD346-02E2-40B9-AD20-AF02A78999D1}  113000.0    2013-01-02   \n",
       "18351985  {EF89E3A8-2BD1-4347-8B9B-F2CEEB2E62DC}   75000.0    2013-01-02   \n",
       "18512520  {554C7E6D-FB60-4BF3-AEF0-F18802D4C110}  385000.0    2013-01-02   \n",
       "18275462  {3A27DE8C-0D42-41CC-8501-7367F7E98993}  115000.0    2013-01-02   \n",
       "18627036  {B5756393-923E-437D-B3BC-D21F5BAB0189}  110000.0    2013-01-02   \n",
       "\n",
       "          postcode      property_type is_old_or_new property_tenure  \\\n",
       "18251630   L31 2HS      Semi-Detached           Old        Freehold   \n",
       "18351985  CH43 5RF  Flats/Maisonettes           Old       Leasehold   \n",
       "18512520  WA12 0JF           Detached           Old        Freehold   \n",
       "18275462   L13 5UP      Semi-Detached           Old        Freehold   \n",
       "18627036    L3 5XY  Flats/Maisonettes           Old       Leasehold   \n",
       "\n",
       "                       town   district      county ppd_transaction_category  \n",
       "18251630          LIVERPOOL     SEFTON  MERSEYSIDE                        A  \n",
       "18351985            PRENTON     WIRRAL  MERSEYSIDE                        A  \n",
       "18512520  NEWTON-LE-WILLOWS  ST HELENS  MERSEYSIDE                        A  \n",
       "18275462          LIVERPOOL  LIVERPOOL  MERSEYSIDE                        A  \n",
       "18627036          LIVERPOOL  LIVERPOOL  MERSEYSIDE                        A  "
      ]
     },
     "execution_count": 17,
     "metadata": {},
     "output_type": "execute_result"
    }
   ],
   "source": [
    "# Sort data by teansaction date\n",
    "merseyside_house_data = merseyside_house_data.sort_values('transfer_date', ascending=True)\n",
    "merseyside_house_data.head()"
   ]
  },
  {
   "cell_type": "code",
   "execution_count": 18,
   "metadata": {},
   "outputs": [
    {
     "name": "stdout",
     "output_type": "stream",
     "text": [
      "<class 'pandas.core.frame.DataFrame'>\n",
      "Index: 247523 entries, 18251630 to 28794487\n",
      "Data columns (total 11 columns):\n",
      " #   Column                    Non-Null Count   Dtype         \n",
      "---  ------                    --------------   -----         \n",
      " 0   transaction_id            247523 non-null  object        \n",
      " 1   price                     247523 non-null  float64       \n",
      " 2   transfer_date             247523 non-null  datetime64[ns]\n",
      " 3   postcode                  246787 non-null  object        \n",
      " 4   property_type             247523 non-null  category      \n",
      " 5   is_old_or_new             247523 non-null  category      \n",
      " 6   property_tenure           247523 non-null  category      \n",
      " 7   town                      247523 non-null  object        \n",
      " 8   district                  247523 non-null  object        \n",
      " 9   county                    247523 non-null  object        \n",
      " 10  ppd_transaction_category  247523 non-null  category      \n",
      "dtypes: category(4), datetime64[ns](1), float64(1), object(5)\n",
      "memory usage: 16.1+ MB\n"
     ]
    }
   ],
   "source": [
    "merseyside_house_data.info()"
   ]
  },
  {
   "cell_type": "code",
   "execution_count": 27,
   "metadata": {},
   "outputs": [
    {
     "data": {
      "text/plain": [
       "736"
      ]
     },
     "execution_count": 27,
     "metadata": {},
     "output_type": "execute_result"
    }
   ],
   "source": [
    "# calculate the number of null values in postcode colum\n",
    "merseyside_house_data['postcode'].isnull().sum()"
   ]
  },
  {
   "cell_type": "code",
   "execution_count": 28,
   "metadata": {},
   "outputs": [],
   "source": [
    "# exclude rows with null postcode values\n",
    "merseyside_house_data = merseyside_house_data[~merseyside_house_data['postcode'].isnull(\n",
    ")]"
   ]
  },
  {
   "cell_type": "markdown",
   "metadata": {},
   "source": [
    "### Export"
   ]
  },
  {
   "cell_type": "code",
   "execution_count": 34,
   "metadata": {},
   "outputs": [],
   "source": [
    "# Save the filtered dataset\n",
    "merseyside_house_data.to_csv(\n",
    "    'clean_data/clean_property_price_data.csv', index=False)"
   ]
  }
 ],
 "metadata": {
  "kernelspec": {
   "display_name": "venv",
   "language": "python",
   "name": "python3"
  },
  "language_info": {
   "codemirror_mode": {
    "name": "ipython",
    "version": 3
   },
   "file_extension": ".py",
   "mimetype": "text/x-python",
   "name": "python",
   "nbconvert_exporter": "python",
   "pygments_lexer": "ipython3",
   "version": "3.12.0"
  }
 },
 "nbformat": 4,
 "nbformat_minor": 2
}
